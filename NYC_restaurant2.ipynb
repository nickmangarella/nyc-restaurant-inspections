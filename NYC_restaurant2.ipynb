{
 "cells": [
  {
   "cell_type": "code",
   "execution_count": 1,
   "metadata": {},
   "outputs": [],
   "source": [
    "import pandas as pd"
   ]
  },
  {
   "cell_type": "code",
   "execution_count": 2,
   "metadata": {},
   "outputs": [
    {
     "output_type": "execute_result",
     "data": {
      "text/plain": [
       "      CAMIS                          DBA           BORO BUILDING  \\\n",
       "0  41651801                  THE LIBERTY      Manhattan       29   \n",
       "1  50074624                      CAFE 47      Manhattan       47   \n",
       "2  50082531        KENNEDY FRIED CHICKEN          Bronx     1220   \n",
       "3  50071207            VIOLETTE'S CELLAR  Staten Island     2271   \n",
       "4  50090691  SALIM KENNEDY FRIED CHICKEN         Queens    16614   \n",
       "\n",
       "             STREET  ZIPCODE       PHONE CUISINE DESCRIPTION INSPECTION DATE  \\\n",
       "0  WEST   35 STREET  10001.0  2129674000               Irish       6/17/2019   \n",
       "1  WEST   66 STREET  10023.0  6467408369            American      10/31/2019   \n",
       "2      OGDEN AVENUE  10452.0  6469059373             Chicken       12/6/2018   \n",
       "3   HYLAN BOULEVARD  10306.0  7186505050            American       8/29/2018   \n",
       "4      HILLSIDE AVE  11432.0  7183744616         Bangladeshi       2/20/2020   \n",
       "\n",
       "                                            ACTION  ...  \\\n",
       "0  Violations were cited in the following area(s).  ...   \n",
       "1  Violations were cited in the following area(s).  ...   \n",
       "2  Violations were cited in the following area(s).  ...   \n",
       "3  Violations were cited in the following area(s).  ...   \n",
       "4  Violations were cited in the following area(s).  ...   \n",
       "\n",
       "                            INSPECTION TYPE INSPECTION TYPE GENERAL  \\\n",
       "0          Cycle Inspection / Re-inspection           Re-inspection   \n",
       "1     Cycle Inspection / Initial Inspection      Initial Inspection   \n",
       "2  Pre-permit (Operational) / Re-inspection           Re-inspection   \n",
       "3     Cycle Inspection / Initial Inspection      Initial Inspection   \n",
       "4     Cycle Inspection / Initial Inspection      Initial Inspection   \n",
       "\n",
       "    Latitude  Longitude Community Board Council District Census Tract  \\\n",
       "0  40.749603 -73.985267           105.0              4.0       8400.0   \n",
       "1  40.772987 -73.980081           107.0              6.0      15300.0   \n",
       "2  40.838249 -73.926329           204.0             16.0      19900.0   \n",
       "3  40.575370 -74.104831           502.0             50.0      12200.0   \n",
       "4  40.709572 -73.796195           412.0             27.0      46000.0   \n",
       "\n",
       "         BIN           BBL   NTA  \n",
       "0  1015891.0  1.008370e+09  MN17  \n",
       "1  1081016.0  1.011190e+09  MN14  \n",
       "2  2003298.0  2.025160e+09  BX26  \n",
       "3  5107538.0  5.036150e+09  SI45  \n",
       "4  4210082.0  4.098180e+09  QN61  \n",
       "\n",
       "[5 rows x 27 columns]"
      ],
      "text/html": "<div>\n<style scoped>\n    .dataframe tbody tr th:only-of-type {\n        vertical-align: middle;\n    }\n\n    .dataframe tbody tr th {\n        vertical-align: top;\n    }\n\n    .dataframe thead th {\n        text-align: right;\n    }\n</style>\n<table border=\"1\" class=\"dataframe\">\n  <thead>\n    <tr style=\"text-align: right;\">\n      <th></th>\n      <th>CAMIS</th>\n      <th>DBA</th>\n      <th>BORO</th>\n      <th>BUILDING</th>\n      <th>STREET</th>\n      <th>ZIPCODE</th>\n      <th>PHONE</th>\n      <th>CUISINE DESCRIPTION</th>\n      <th>INSPECTION DATE</th>\n      <th>ACTION</th>\n      <th>...</th>\n      <th>INSPECTION TYPE</th>\n      <th>INSPECTION TYPE GENERAL</th>\n      <th>Latitude</th>\n      <th>Longitude</th>\n      <th>Community Board</th>\n      <th>Council District</th>\n      <th>Census Tract</th>\n      <th>BIN</th>\n      <th>BBL</th>\n      <th>NTA</th>\n    </tr>\n  </thead>\n  <tbody>\n    <tr>\n      <th>0</th>\n      <td>41651801</td>\n      <td>THE LIBERTY</td>\n      <td>Manhattan</td>\n      <td>29</td>\n      <td>WEST   35 STREET</td>\n      <td>10001.0</td>\n      <td>2129674000</td>\n      <td>Irish</td>\n      <td>6/17/2019</td>\n      <td>Violations were cited in the following area(s).</td>\n      <td>...</td>\n      <td>Cycle Inspection / Re-inspection</td>\n      <td>Re-inspection</td>\n      <td>40.749603</td>\n      <td>-73.985267</td>\n      <td>105.0</td>\n      <td>4.0</td>\n      <td>8400.0</td>\n      <td>1015891.0</td>\n      <td>1.008370e+09</td>\n      <td>MN17</td>\n    </tr>\n    <tr>\n      <th>1</th>\n      <td>50074624</td>\n      <td>CAFE 47</td>\n      <td>Manhattan</td>\n      <td>47</td>\n      <td>WEST   66 STREET</td>\n      <td>10023.0</td>\n      <td>6467408369</td>\n      <td>American</td>\n      <td>10/31/2019</td>\n      <td>Violations were cited in the following area(s).</td>\n      <td>...</td>\n      <td>Cycle Inspection / Initial Inspection</td>\n      <td>Initial Inspection</td>\n      <td>40.772987</td>\n      <td>-73.980081</td>\n      <td>107.0</td>\n      <td>6.0</td>\n      <td>15300.0</td>\n      <td>1081016.0</td>\n      <td>1.011190e+09</td>\n      <td>MN14</td>\n    </tr>\n    <tr>\n      <th>2</th>\n      <td>50082531</td>\n      <td>KENNEDY FRIED CHICKEN</td>\n      <td>Bronx</td>\n      <td>1220</td>\n      <td>OGDEN AVENUE</td>\n      <td>10452.0</td>\n      <td>6469059373</td>\n      <td>Chicken</td>\n      <td>12/6/2018</td>\n      <td>Violations were cited in the following area(s).</td>\n      <td>...</td>\n      <td>Pre-permit (Operational) / Re-inspection</td>\n      <td>Re-inspection</td>\n      <td>40.838249</td>\n      <td>-73.926329</td>\n      <td>204.0</td>\n      <td>16.0</td>\n      <td>19900.0</td>\n      <td>2003298.0</td>\n      <td>2.025160e+09</td>\n      <td>BX26</td>\n    </tr>\n    <tr>\n      <th>3</th>\n      <td>50071207</td>\n      <td>VIOLETTE'S CELLAR</td>\n      <td>Staten Island</td>\n      <td>2271</td>\n      <td>HYLAN BOULEVARD</td>\n      <td>10306.0</td>\n      <td>7186505050</td>\n      <td>American</td>\n      <td>8/29/2018</td>\n      <td>Violations were cited in the following area(s).</td>\n      <td>...</td>\n      <td>Cycle Inspection / Initial Inspection</td>\n      <td>Initial Inspection</td>\n      <td>40.575370</td>\n      <td>-74.104831</td>\n      <td>502.0</td>\n      <td>50.0</td>\n      <td>12200.0</td>\n      <td>5107538.0</td>\n      <td>5.036150e+09</td>\n      <td>SI45</td>\n    </tr>\n    <tr>\n      <th>4</th>\n      <td>50090691</td>\n      <td>SALIM KENNEDY FRIED CHICKEN</td>\n      <td>Queens</td>\n      <td>16614</td>\n      <td>HILLSIDE AVE</td>\n      <td>11432.0</td>\n      <td>7183744616</td>\n      <td>Bangladeshi</td>\n      <td>2/20/2020</td>\n      <td>Violations were cited in the following area(s).</td>\n      <td>...</td>\n      <td>Cycle Inspection / Initial Inspection</td>\n      <td>Initial Inspection</td>\n      <td>40.709572</td>\n      <td>-73.796195</td>\n      <td>412.0</td>\n      <td>27.0</td>\n      <td>46000.0</td>\n      <td>4210082.0</td>\n      <td>4.098180e+09</td>\n      <td>QN61</td>\n    </tr>\n  </tbody>\n</table>\n<p>5 rows × 27 columns</p>\n</div>"
     },
     "metadata": {},
     "execution_count": 2
    }
   ],
   "source": [
    "df = pd.read_csv(\"DOHMH_New_York_City_Restaurant_Inspection_Results_Clean2.csv\")\n",
    "df.head()"
   ]
  },
  {
   "cell_type": "code",
   "execution_count": 3,
   "metadata": {},
   "outputs": [
    {
     "output_type": "execute_result",
     "data": {
      "text/plain": [
       "      CAMIS                          DBA           BORO BUILDING  \\\n",
       "0  41651801                  THE LIBERTY      Manhattan       29   \n",
       "1  50074624                      CAFE 47      Manhattan       47   \n",
       "2  50082531        KENNEDY FRIED CHICKEN          Bronx     1220   \n",
       "3  50071207            VIOLETTE'S CELLAR  Staten Island     2271   \n",
       "4  50090691  SALIM KENNEDY FRIED CHICKEN         Queens    16614   \n",
       "\n",
       "             STREET  ZIPCODE       PHONE CUISINE DESCRIPTION INSPECTION DATE  \\\n",
       "0  WEST   35 STREET  10001.0  2129674000               Irish       6/17/2019   \n",
       "1  WEST   66 STREET  10023.0  6467408369            American      10/31/2019   \n",
       "2      OGDEN AVENUE  10452.0  6469059373             Chicken       12/6/2018   \n",
       "3   HYLAN BOULEVARD  10306.0  7186505050            American       8/29/2018   \n",
       "4      HILLSIDE AVE  11432.0  7183744616         Bangladeshi       2/20/2020   \n",
       "\n",
       "                                            ACTION  ...  \\\n",
       "0  Violations were cited in the following area(s).  ...   \n",
       "1  Violations were cited in the following area(s).  ...   \n",
       "2  Violations were cited in the following area(s).  ...   \n",
       "3  Violations were cited in the following area(s).  ...   \n",
       "4  Violations were cited in the following area(s).  ...   \n",
       "\n",
       "  INSPECTION TYPE GENERAL   Latitude  Longitude  Community Board  \\\n",
       "0           Re-inspection  40.749603 -73.985267            105.0   \n",
       "1      Initial Inspection  40.772987 -73.980081            107.0   \n",
       "2           Re-inspection  40.838249 -73.926329            204.0   \n",
       "3      Initial Inspection  40.575370 -74.104831            502.0   \n",
       "4      Initial Inspection  40.709572 -73.796195            412.0   \n",
       "\n",
       "  Council District Census Tract        BIN           BBL   NTA  YEAR  \n",
       "0              4.0       8400.0  1015891.0  1.008370e+09  MN17  2019  \n",
       "1              6.0      15300.0  1081016.0  1.011190e+09  MN14  2019  \n",
       "2             16.0      19900.0  2003298.0  2.025160e+09  BX26  2018  \n",
       "3             50.0      12200.0  5107538.0  5.036150e+09  SI45  2018  \n",
       "4             27.0      46000.0  4210082.0  4.098180e+09  QN61  2020  \n",
       "\n",
       "[5 rows x 28 columns]"
      ],
      "text/html": "<div>\n<style scoped>\n    .dataframe tbody tr th:only-of-type {\n        vertical-align: middle;\n    }\n\n    .dataframe tbody tr th {\n        vertical-align: top;\n    }\n\n    .dataframe thead th {\n        text-align: right;\n    }\n</style>\n<table border=\"1\" class=\"dataframe\">\n  <thead>\n    <tr style=\"text-align: right;\">\n      <th></th>\n      <th>CAMIS</th>\n      <th>DBA</th>\n      <th>BORO</th>\n      <th>BUILDING</th>\n      <th>STREET</th>\n      <th>ZIPCODE</th>\n      <th>PHONE</th>\n      <th>CUISINE DESCRIPTION</th>\n      <th>INSPECTION DATE</th>\n      <th>ACTION</th>\n      <th>...</th>\n      <th>INSPECTION TYPE GENERAL</th>\n      <th>Latitude</th>\n      <th>Longitude</th>\n      <th>Community Board</th>\n      <th>Council District</th>\n      <th>Census Tract</th>\n      <th>BIN</th>\n      <th>BBL</th>\n      <th>NTA</th>\n      <th>YEAR</th>\n    </tr>\n  </thead>\n  <tbody>\n    <tr>\n      <th>0</th>\n      <td>41651801</td>\n      <td>THE LIBERTY</td>\n      <td>Manhattan</td>\n      <td>29</td>\n      <td>WEST   35 STREET</td>\n      <td>10001.0</td>\n      <td>2129674000</td>\n      <td>Irish</td>\n      <td>6/17/2019</td>\n      <td>Violations were cited in the following area(s).</td>\n      <td>...</td>\n      <td>Re-inspection</td>\n      <td>40.749603</td>\n      <td>-73.985267</td>\n      <td>105.0</td>\n      <td>4.0</td>\n      <td>8400.0</td>\n      <td>1015891.0</td>\n      <td>1.008370e+09</td>\n      <td>MN17</td>\n      <td>2019</td>\n    </tr>\n    <tr>\n      <th>1</th>\n      <td>50074624</td>\n      <td>CAFE 47</td>\n      <td>Manhattan</td>\n      <td>47</td>\n      <td>WEST   66 STREET</td>\n      <td>10023.0</td>\n      <td>6467408369</td>\n      <td>American</td>\n      <td>10/31/2019</td>\n      <td>Violations were cited in the following area(s).</td>\n      <td>...</td>\n      <td>Initial Inspection</td>\n      <td>40.772987</td>\n      <td>-73.980081</td>\n      <td>107.0</td>\n      <td>6.0</td>\n      <td>15300.0</td>\n      <td>1081016.0</td>\n      <td>1.011190e+09</td>\n      <td>MN14</td>\n      <td>2019</td>\n    </tr>\n    <tr>\n      <th>2</th>\n      <td>50082531</td>\n      <td>KENNEDY FRIED CHICKEN</td>\n      <td>Bronx</td>\n      <td>1220</td>\n      <td>OGDEN AVENUE</td>\n      <td>10452.0</td>\n      <td>6469059373</td>\n      <td>Chicken</td>\n      <td>12/6/2018</td>\n      <td>Violations were cited in the following area(s).</td>\n      <td>...</td>\n      <td>Re-inspection</td>\n      <td>40.838249</td>\n      <td>-73.926329</td>\n      <td>204.0</td>\n      <td>16.0</td>\n      <td>19900.0</td>\n      <td>2003298.0</td>\n      <td>2.025160e+09</td>\n      <td>BX26</td>\n      <td>2018</td>\n    </tr>\n    <tr>\n      <th>3</th>\n      <td>50071207</td>\n      <td>VIOLETTE'S CELLAR</td>\n      <td>Staten Island</td>\n      <td>2271</td>\n      <td>HYLAN BOULEVARD</td>\n      <td>10306.0</td>\n      <td>7186505050</td>\n      <td>American</td>\n      <td>8/29/2018</td>\n      <td>Violations were cited in the following area(s).</td>\n      <td>...</td>\n      <td>Initial Inspection</td>\n      <td>40.575370</td>\n      <td>-74.104831</td>\n      <td>502.0</td>\n      <td>50.0</td>\n      <td>12200.0</td>\n      <td>5107538.0</td>\n      <td>5.036150e+09</td>\n      <td>SI45</td>\n      <td>2018</td>\n    </tr>\n    <tr>\n      <th>4</th>\n      <td>50090691</td>\n      <td>SALIM KENNEDY FRIED CHICKEN</td>\n      <td>Queens</td>\n      <td>16614</td>\n      <td>HILLSIDE AVE</td>\n      <td>11432.0</td>\n      <td>7183744616</td>\n      <td>Bangladeshi</td>\n      <td>2/20/2020</td>\n      <td>Violations were cited in the following area(s).</td>\n      <td>...</td>\n      <td>Initial Inspection</td>\n      <td>40.709572</td>\n      <td>-73.796195</td>\n      <td>412.0</td>\n      <td>27.0</td>\n      <td>46000.0</td>\n      <td>4210082.0</td>\n      <td>4.098180e+09</td>\n      <td>QN61</td>\n      <td>2020</td>\n    </tr>\n  </tbody>\n</table>\n<p>5 rows × 28 columns</p>\n</div>"
     },
     "metadata": {},
     "execution_count": 3
    }
   ],
   "source": [
    "df['YEAR'] = df['INSPECTION DATE'].str.strip().str[-4:]\n",
    "df.head()"
   ]
  },
  {
   "cell_type": "code",
   "execution_count": 4,
   "metadata": {},
   "outputs": [
    {
     "output_type": "execute_result",
     "data": {
      "text/plain": [
       "      CAMIS                          DBA           BORO BUILDING  \\\n",
       "0  41651801                  THE LIBERTY      Manhattan       29   \n",
       "1  50074624                      CAFE 47      Manhattan       47   \n",
       "2  50082531        KENNEDY FRIED CHICKEN          Bronx     1220   \n",
       "3  50071207            VIOLETTE'S CELLAR  Staten Island     2271   \n",
       "4  50090691  SALIM KENNEDY FRIED CHICKEN         Queens    16614   \n",
       "\n",
       "             STREET  ZIPCODE       PHONE CUISINE DESCRIPTION  \\\n",
       "0  WEST   35 STREET  10001.0  2129674000               Irish   \n",
       "1  WEST   66 STREET  10023.0  6467408369            American   \n",
       "2      OGDEN AVENUE  10452.0  6469059373             Chicken   \n",
       "3   HYLAN BOULEVARD  10306.0  7186505050            American   \n",
       "4      HILLSIDE AVE  11432.0  7183744616         Bangladeshi   \n",
       "\n",
       "                                            ACTION VIOLATION CODE  \\\n",
       "0  Violations were cited in the following area(s).            02G   \n",
       "1  Violations were cited in the following area(s).            04L   \n",
       "2  Violations were cited in the following area(s).            10D   \n",
       "3  Violations were cited in the following area(s).            04N   \n",
       "4  Violations were cited in the following area(s).            08A   \n",
       "\n",
       "                               VIOLATION DESCRIPTION CRITICAL FLAG  SCORE  \\\n",
       "0  Cold food item held above 41º F (smoked fish a...             Y     12   \n",
       "1  Evidence of mice or live mice present in facil...             Y     12   \n",
       "2  Mechanical or natural ventilation system not p...             N     11   \n",
       "3  Filth flies or food/refuse/sewage-associated (...             Y     38   \n",
       "4  Facility not vermin proof. Harborage or condit...             N     20   \n",
       "\n",
       "  GRADE                           INSPECTION TYPE INSPECTION TYPE GENERAL  \\\n",
       "0     A          Cycle Inspection / Re-inspection           Re-inspection   \n",
       "1     A     Cycle Inspection / Initial Inspection      Initial Inspection   \n",
       "2     A  Pre-permit (Operational) / Re-inspection           Re-inspection   \n",
       "3   NaN     Cycle Inspection / Initial Inspection      Initial Inspection   \n",
       "4   NaN     Cycle Inspection / Initial Inspection      Initial Inspection   \n",
       "\n",
       "    Latitude  Longitude  Year  \n",
       "0  40.749603 -73.985267  2019  \n",
       "1  40.772987 -73.980081  2019  \n",
       "2  40.838249 -73.926329  2018  \n",
       "3  40.575370 -74.104831  2018  \n",
       "4  40.709572 -73.796195  2020  "
      ],
      "text/html": "<div>\n<style scoped>\n    .dataframe tbody tr th:only-of-type {\n        vertical-align: middle;\n    }\n\n    .dataframe tbody tr th {\n        vertical-align: top;\n    }\n\n    .dataframe thead th {\n        text-align: right;\n    }\n</style>\n<table border=\"1\" class=\"dataframe\">\n  <thead>\n    <tr style=\"text-align: right;\">\n      <th></th>\n      <th>CAMIS</th>\n      <th>DBA</th>\n      <th>BORO</th>\n      <th>BUILDING</th>\n      <th>STREET</th>\n      <th>ZIPCODE</th>\n      <th>PHONE</th>\n      <th>CUISINE DESCRIPTION</th>\n      <th>ACTION</th>\n      <th>VIOLATION CODE</th>\n      <th>VIOLATION DESCRIPTION</th>\n      <th>CRITICAL FLAG</th>\n      <th>SCORE</th>\n      <th>GRADE</th>\n      <th>INSPECTION TYPE</th>\n      <th>INSPECTION TYPE GENERAL</th>\n      <th>Latitude</th>\n      <th>Longitude</th>\n      <th>Year</th>\n    </tr>\n  </thead>\n  <tbody>\n    <tr>\n      <th>0</th>\n      <td>41651801</td>\n      <td>THE LIBERTY</td>\n      <td>Manhattan</td>\n      <td>29</td>\n      <td>WEST   35 STREET</td>\n      <td>10001.0</td>\n      <td>2129674000</td>\n      <td>Irish</td>\n      <td>Violations were cited in the following area(s).</td>\n      <td>02G</td>\n      <td>Cold food item held above 41º F (smoked fish a...</td>\n      <td>Y</td>\n      <td>12</td>\n      <td>A</td>\n      <td>Cycle Inspection / Re-inspection</td>\n      <td>Re-inspection</td>\n      <td>40.749603</td>\n      <td>-73.985267</td>\n      <td>2019</td>\n    </tr>\n    <tr>\n      <th>1</th>\n      <td>50074624</td>\n      <td>CAFE 47</td>\n      <td>Manhattan</td>\n      <td>47</td>\n      <td>WEST   66 STREET</td>\n      <td>10023.0</td>\n      <td>6467408369</td>\n      <td>American</td>\n      <td>Violations were cited in the following area(s).</td>\n      <td>04L</td>\n      <td>Evidence of mice or live mice present in facil...</td>\n      <td>Y</td>\n      <td>12</td>\n      <td>A</td>\n      <td>Cycle Inspection / Initial Inspection</td>\n      <td>Initial Inspection</td>\n      <td>40.772987</td>\n      <td>-73.980081</td>\n      <td>2019</td>\n    </tr>\n    <tr>\n      <th>2</th>\n      <td>50082531</td>\n      <td>KENNEDY FRIED CHICKEN</td>\n      <td>Bronx</td>\n      <td>1220</td>\n      <td>OGDEN AVENUE</td>\n      <td>10452.0</td>\n      <td>6469059373</td>\n      <td>Chicken</td>\n      <td>Violations were cited in the following area(s).</td>\n      <td>10D</td>\n      <td>Mechanical or natural ventilation system not p...</td>\n      <td>N</td>\n      <td>11</td>\n      <td>A</td>\n      <td>Pre-permit (Operational) / Re-inspection</td>\n      <td>Re-inspection</td>\n      <td>40.838249</td>\n      <td>-73.926329</td>\n      <td>2018</td>\n    </tr>\n    <tr>\n      <th>3</th>\n      <td>50071207</td>\n      <td>VIOLETTE'S CELLAR</td>\n      <td>Staten Island</td>\n      <td>2271</td>\n      <td>HYLAN BOULEVARD</td>\n      <td>10306.0</td>\n      <td>7186505050</td>\n      <td>American</td>\n      <td>Violations were cited in the following area(s).</td>\n      <td>04N</td>\n      <td>Filth flies or food/refuse/sewage-associated (...</td>\n      <td>Y</td>\n      <td>38</td>\n      <td>NaN</td>\n      <td>Cycle Inspection / Initial Inspection</td>\n      <td>Initial Inspection</td>\n      <td>40.575370</td>\n      <td>-74.104831</td>\n      <td>2018</td>\n    </tr>\n    <tr>\n      <th>4</th>\n      <td>50090691</td>\n      <td>SALIM KENNEDY FRIED CHICKEN</td>\n      <td>Queens</td>\n      <td>16614</td>\n      <td>HILLSIDE AVE</td>\n      <td>11432.0</td>\n      <td>7183744616</td>\n      <td>Bangladeshi</td>\n      <td>Violations were cited in the following area(s).</td>\n      <td>08A</td>\n      <td>Facility not vermin proof. Harborage or condit...</td>\n      <td>N</td>\n      <td>20</td>\n      <td>NaN</td>\n      <td>Cycle Inspection / Initial Inspection</td>\n      <td>Initial Inspection</td>\n      <td>40.709572</td>\n      <td>-73.796195</td>\n      <td>2020</td>\n    </tr>\n  </tbody>\n</table>\n</div>"
     },
     "metadata": {},
     "execution_count": 4
    }
   ],
   "source": [
    "df_new = df.drop(columns=['INSPECTION DATE', 'GRADE DATE'])\n",
    "df_new.head()"
   ]
  },
  {
   "cell_type": "code",
   "execution_count": 4,
   "metadata": {},
   "outputs": [],
   "source": [
    "df['ZIPCODE'] = df['ZIPCODE'].astype(str)"
   ]
  },
  {
   "cell_type": "code",
   "execution_count": 5,
   "metadata": {},
   "outputs": [
    {
     "output_type": "execute_result",
     "data": {
      "text/plain": [
       "      CAMIS                          DBA           BORO BUILDING  \\\n",
       "0  41651801                  THE LIBERTY      Manhattan       29   \n",
       "1  50074624                      CAFE 47      Manhattan       47   \n",
       "2  50082531        KENNEDY FRIED CHICKEN          Bronx     1220   \n",
       "3  50071207            VIOLETTE'S CELLAR  Staten Island     2271   \n",
       "4  50090691  SALIM KENNEDY FRIED CHICKEN         Queens    16614   \n",
       "\n",
       "             STREET ZIPCODE       PHONE CUISINE DESCRIPTION INSPECTION DATE  \\\n",
       "0  WEST   35 STREET   10001  2129674000               Irish       6/17/2019   \n",
       "1  WEST   66 STREET   10023  6467408369            American      10/31/2019   \n",
       "2      OGDEN AVENUE   10452  6469059373             Chicken       12/6/2018   \n",
       "3   HYLAN BOULEVARD   10306  7186505050            American       8/29/2018   \n",
       "4      HILLSIDE AVE   11432  7183744616         Bangladeshi       2/20/2020   \n",
       "\n",
       "                                            ACTION  ...  \\\n",
       "0  Violations were cited in the following area(s).  ...   \n",
       "1  Violations were cited in the following area(s).  ...   \n",
       "2  Violations were cited in the following area(s).  ...   \n",
       "3  Violations were cited in the following area(s).  ...   \n",
       "4  Violations were cited in the following area(s).  ...   \n",
       "\n",
       "  INSPECTION TYPE GENERAL   Latitude  Longitude  Community Board  \\\n",
       "0           Re-inspection  40.749603 -73.985267            105.0   \n",
       "1      Initial Inspection  40.772987 -73.980081            107.0   \n",
       "2           Re-inspection  40.838249 -73.926329            204.0   \n",
       "3      Initial Inspection  40.575370 -74.104831            502.0   \n",
       "4      Initial Inspection  40.709572 -73.796195            412.0   \n",
       "\n",
       "  Council District Census Tract        BIN           BBL   NTA  YEAR  \n",
       "0              4.0       8400.0  1015891.0  1.008370e+09  MN17  2019  \n",
       "1              6.0      15300.0  1081016.0  1.011190e+09  MN14  2019  \n",
       "2             16.0      19900.0  2003298.0  2.025160e+09  BX26  2018  \n",
       "3             50.0      12200.0  5107538.0  5.036150e+09  SI45  2018  \n",
       "4             27.0      46000.0  4210082.0  4.098180e+09  QN61  2020  \n",
       "\n",
       "[5 rows x 28 columns]"
      ],
      "text/html": "<div>\n<style scoped>\n    .dataframe tbody tr th:only-of-type {\n        vertical-align: middle;\n    }\n\n    .dataframe tbody tr th {\n        vertical-align: top;\n    }\n\n    .dataframe thead th {\n        text-align: right;\n    }\n</style>\n<table border=\"1\" class=\"dataframe\">\n  <thead>\n    <tr style=\"text-align: right;\">\n      <th></th>\n      <th>CAMIS</th>\n      <th>DBA</th>\n      <th>BORO</th>\n      <th>BUILDING</th>\n      <th>STREET</th>\n      <th>ZIPCODE</th>\n      <th>PHONE</th>\n      <th>CUISINE DESCRIPTION</th>\n      <th>INSPECTION DATE</th>\n      <th>ACTION</th>\n      <th>...</th>\n      <th>INSPECTION TYPE GENERAL</th>\n      <th>Latitude</th>\n      <th>Longitude</th>\n      <th>Community Board</th>\n      <th>Council District</th>\n      <th>Census Tract</th>\n      <th>BIN</th>\n      <th>BBL</th>\n      <th>NTA</th>\n      <th>YEAR</th>\n    </tr>\n  </thead>\n  <tbody>\n    <tr>\n      <th>0</th>\n      <td>41651801</td>\n      <td>THE LIBERTY</td>\n      <td>Manhattan</td>\n      <td>29</td>\n      <td>WEST   35 STREET</td>\n      <td>10001</td>\n      <td>2129674000</td>\n      <td>Irish</td>\n      <td>6/17/2019</td>\n      <td>Violations were cited in the following area(s).</td>\n      <td>...</td>\n      <td>Re-inspection</td>\n      <td>40.749603</td>\n      <td>-73.985267</td>\n      <td>105.0</td>\n      <td>4.0</td>\n      <td>8400.0</td>\n      <td>1015891.0</td>\n      <td>1.008370e+09</td>\n      <td>MN17</td>\n      <td>2019</td>\n    </tr>\n    <tr>\n      <th>1</th>\n      <td>50074624</td>\n      <td>CAFE 47</td>\n      <td>Manhattan</td>\n      <td>47</td>\n      <td>WEST   66 STREET</td>\n      <td>10023</td>\n      <td>6467408369</td>\n      <td>American</td>\n      <td>10/31/2019</td>\n      <td>Violations were cited in the following area(s).</td>\n      <td>...</td>\n      <td>Initial Inspection</td>\n      <td>40.772987</td>\n      <td>-73.980081</td>\n      <td>107.0</td>\n      <td>6.0</td>\n      <td>15300.0</td>\n      <td>1081016.0</td>\n      <td>1.011190e+09</td>\n      <td>MN14</td>\n      <td>2019</td>\n    </tr>\n    <tr>\n      <th>2</th>\n      <td>50082531</td>\n      <td>KENNEDY FRIED CHICKEN</td>\n      <td>Bronx</td>\n      <td>1220</td>\n      <td>OGDEN AVENUE</td>\n      <td>10452</td>\n      <td>6469059373</td>\n      <td>Chicken</td>\n      <td>12/6/2018</td>\n      <td>Violations were cited in the following area(s).</td>\n      <td>...</td>\n      <td>Re-inspection</td>\n      <td>40.838249</td>\n      <td>-73.926329</td>\n      <td>204.0</td>\n      <td>16.0</td>\n      <td>19900.0</td>\n      <td>2003298.0</td>\n      <td>2.025160e+09</td>\n      <td>BX26</td>\n      <td>2018</td>\n    </tr>\n    <tr>\n      <th>3</th>\n      <td>50071207</td>\n      <td>VIOLETTE'S CELLAR</td>\n      <td>Staten Island</td>\n      <td>2271</td>\n      <td>HYLAN BOULEVARD</td>\n      <td>10306</td>\n      <td>7186505050</td>\n      <td>American</td>\n      <td>8/29/2018</td>\n      <td>Violations were cited in the following area(s).</td>\n      <td>...</td>\n      <td>Initial Inspection</td>\n      <td>40.575370</td>\n      <td>-74.104831</td>\n      <td>502.0</td>\n      <td>50.0</td>\n      <td>12200.0</td>\n      <td>5107538.0</td>\n      <td>5.036150e+09</td>\n      <td>SI45</td>\n      <td>2018</td>\n    </tr>\n    <tr>\n      <th>4</th>\n      <td>50090691</td>\n      <td>SALIM KENNEDY FRIED CHICKEN</td>\n      <td>Queens</td>\n      <td>16614</td>\n      <td>HILLSIDE AVE</td>\n      <td>11432</td>\n      <td>7183744616</td>\n      <td>Bangladeshi</td>\n      <td>2/20/2020</td>\n      <td>Violations were cited in the following area(s).</td>\n      <td>...</td>\n      <td>Initial Inspection</td>\n      <td>40.709572</td>\n      <td>-73.796195</td>\n      <td>412.0</td>\n      <td>27.0</td>\n      <td>46000.0</td>\n      <td>4210082.0</td>\n      <td>4.098180e+09</td>\n      <td>QN61</td>\n      <td>2020</td>\n    </tr>\n  </tbody>\n</table>\n<p>5 rows × 28 columns</p>\n</div>"
     },
     "metadata": {},
     "execution_count": 5
    }
   ],
   "source": [
    "df['ZIPCODE'] = df['ZIPCODE'].str.strip().str[:5]\n",
    "df.head()"
   ]
  },
  {
   "cell_type": "code",
   "execution_count": 6,
   "metadata": {},
   "outputs": [
    {
     "output_type": "execute_result",
     "data": {
      "text/plain": [
       "      CAMIS                          DBA           BORO BUILDING  \\\n",
       "0  41651801                  THE LIBERTY      Manhattan       29   \n",
       "1  50074624                      CAFE 47      Manhattan       47   \n",
       "2  50082531        KENNEDY FRIED CHICKEN          Bronx     1220   \n",
       "3  50071207            VIOLETTE'S CELLAR  Staten Island     2271   \n",
       "4  50090691  SALIM KENNEDY FRIED CHICKEN         Queens    16614   \n",
       "\n",
       "             STREET ZIPCODE       PHONE CUISINE DESCRIPTION INSPECTION DATE  \\\n",
       "0  WEST   35 STREET   10001  2129674000               Irish       6/17/2019   \n",
       "1  WEST   66 STREET   10023  6467408369            American      10/31/2019   \n",
       "2      OGDEN AVENUE   10452  6469059373             Chicken       12/6/2018   \n",
       "3   HYLAN BOULEVARD   10306  7186505050            American       8/29/2018   \n",
       "4      HILLSIDE AVE   11432  7183744616         Bangladeshi       2/20/2020   \n",
       "\n",
       "                                            ACTION  ...   Latitude  Longitude  \\\n",
       "0  Violations were cited in the following area(s).  ...  40.749603 -73.985267   \n",
       "1  Violations were cited in the following area(s).  ...  40.772987 -73.980081   \n",
       "2  Violations were cited in the following area(s).  ...  40.838249 -73.926329   \n",
       "3  Violations were cited in the following area(s).  ...  40.575370 -74.104831   \n",
       "4  Violations were cited in the following area(s).  ...  40.709572 -73.796195   \n",
       "\n",
       "  Community Board  Council District Census Tract        BIN           BBL  \\\n",
       "0           105.0               4.0       8400.0  1015891.0  1.008370e+09   \n",
       "1           107.0               6.0      15300.0  1081016.0  1.011190e+09   \n",
       "2           204.0              16.0      19900.0  2003298.0  2.025160e+09   \n",
       "3           502.0              50.0      12200.0  5107538.0  5.036150e+09   \n",
       "4           412.0              27.0      46000.0  4210082.0  4.098180e+09   \n",
       "\n",
       "    NTA  YEAR                     ADDRESS  \n",
       "0  MN17  2019   29,WEST   35 STREET,10001  \n",
       "1  MN14  2019   47,WEST   66 STREET,10023  \n",
       "2  BX26  2018     1220,OGDEN AVENUE,10452  \n",
       "3  SI45  2018  2271,HYLAN BOULEVARD,10306  \n",
       "4  QN61  2020    16614,HILLSIDE AVE,11432  \n",
       "\n",
       "[5 rows x 29 columns]"
      ],
      "text/html": "<div>\n<style scoped>\n    .dataframe tbody tr th:only-of-type {\n        vertical-align: middle;\n    }\n\n    .dataframe tbody tr th {\n        vertical-align: top;\n    }\n\n    .dataframe thead th {\n        text-align: right;\n    }\n</style>\n<table border=\"1\" class=\"dataframe\">\n  <thead>\n    <tr style=\"text-align: right;\">\n      <th></th>\n      <th>CAMIS</th>\n      <th>DBA</th>\n      <th>BORO</th>\n      <th>BUILDING</th>\n      <th>STREET</th>\n      <th>ZIPCODE</th>\n      <th>PHONE</th>\n      <th>CUISINE DESCRIPTION</th>\n      <th>INSPECTION DATE</th>\n      <th>ACTION</th>\n      <th>...</th>\n      <th>Latitude</th>\n      <th>Longitude</th>\n      <th>Community Board</th>\n      <th>Council District</th>\n      <th>Census Tract</th>\n      <th>BIN</th>\n      <th>BBL</th>\n      <th>NTA</th>\n      <th>YEAR</th>\n      <th>ADDRESS</th>\n    </tr>\n  </thead>\n  <tbody>\n    <tr>\n      <th>0</th>\n      <td>41651801</td>\n      <td>THE LIBERTY</td>\n      <td>Manhattan</td>\n      <td>29</td>\n      <td>WEST   35 STREET</td>\n      <td>10001</td>\n      <td>2129674000</td>\n      <td>Irish</td>\n      <td>6/17/2019</td>\n      <td>Violations were cited in the following area(s).</td>\n      <td>...</td>\n      <td>40.749603</td>\n      <td>-73.985267</td>\n      <td>105.0</td>\n      <td>4.0</td>\n      <td>8400.0</td>\n      <td>1015891.0</td>\n      <td>1.008370e+09</td>\n      <td>MN17</td>\n      <td>2019</td>\n      <td>29,WEST   35 STREET,10001</td>\n    </tr>\n    <tr>\n      <th>1</th>\n      <td>50074624</td>\n      <td>CAFE 47</td>\n      <td>Manhattan</td>\n      <td>47</td>\n      <td>WEST   66 STREET</td>\n      <td>10023</td>\n      <td>6467408369</td>\n      <td>American</td>\n      <td>10/31/2019</td>\n      <td>Violations were cited in the following area(s).</td>\n      <td>...</td>\n      <td>40.772987</td>\n      <td>-73.980081</td>\n      <td>107.0</td>\n      <td>6.0</td>\n      <td>15300.0</td>\n      <td>1081016.0</td>\n      <td>1.011190e+09</td>\n      <td>MN14</td>\n      <td>2019</td>\n      <td>47,WEST   66 STREET,10023</td>\n    </tr>\n    <tr>\n      <th>2</th>\n      <td>50082531</td>\n      <td>KENNEDY FRIED CHICKEN</td>\n      <td>Bronx</td>\n      <td>1220</td>\n      <td>OGDEN AVENUE</td>\n      <td>10452</td>\n      <td>6469059373</td>\n      <td>Chicken</td>\n      <td>12/6/2018</td>\n      <td>Violations were cited in the following area(s).</td>\n      <td>...</td>\n      <td>40.838249</td>\n      <td>-73.926329</td>\n      <td>204.0</td>\n      <td>16.0</td>\n      <td>19900.0</td>\n      <td>2003298.0</td>\n      <td>2.025160e+09</td>\n      <td>BX26</td>\n      <td>2018</td>\n      <td>1220,OGDEN AVENUE,10452</td>\n    </tr>\n    <tr>\n      <th>3</th>\n      <td>50071207</td>\n      <td>VIOLETTE'S CELLAR</td>\n      <td>Staten Island</td>\n      <td>2271</td>\n      <td>HYLAN BOULEVARD</td>\n      <td>10306</td>\n      <td>7186505050</td>\n      <td>American</td>\n      <td>8/29/2018</td>\n      <td>Violations were cited in the following area(s).</td>\n      <td>...</td>\n      <td>40.575370</td>\n      <td>-74.104831</td>\n      <td>502.0</td>\n      <td>50.0</td>\n      <td>12200.0</td>\n      <td>5107538.0</td>\n      <td>5.036150e+09</td>\n      <td>SI45</td>\n      <td>2018</td>\n      <td>2271,HYLAN BOULEVARD,10306</td>\n    </tr>\n    <tr>\n      <th>4</th>\n      <td>50090691</td>\n      <td>SALIM KENNEDY FRIED CHICKEN</td>\n      <td>Queens</td>\n      <td>16614</td>\n      <td>HILLSIDE AVE</td>\n      <td>11432</td>\n      <td>7183744616</td>\n      <td>Bangladeshi</td>\n      <td>2/20/2020</td>\n      <td>Violations were cited in the following area(s).</td>\n      <td>...</td>\n      <td>40.709572</td>\n      <td>-73.796195</td>\n      <td>412.0</td>\n      <td>27.0</td>\n      <td>46000.0</td>\n      <td>4210082.0</td>\n      <td>4.098180e+09</td>\n      <td>QN61</td>\n      <td>2020</td>\n      <td>16614,HILLSIDE AVE,11432</td>\n    </tr>\n  </tbody>\n</table>\n<p>5 rows × 29 columns</p>\n</div>"
     },
     "metadata": {},
     "execution_count": 6
    }
   ],
   "source": [
    "df['ADDRESS'] = df[df.columns[3:6]].apply(lambda x: ','.join(x.dropna().astype(str)), axis=1)\n",
    "df.head()"
   ]
  },
  {
   "cell_type": "code",
   "execution_count": 7,
   "metadata": {},
   "outputs": [
    {
     "output_type": "execute_result",
     "data": {
      "text/plain": [
       "      CAMIS                          DBA           BORO BUILDING  \\\n",
       "0  41651801                  THE LIBERTY      Manhattan       29   \n",
       "1  50074624                      CAFE 47      Manhattan       47   \n",
       "2  50082531        KENNEDY FRIED CHICKEN          Bronx     1220   \n",
       "3  50071207            VIOLETTE'S CELLAR  Staten Island     2271   \n",
       "4  50090691  SALIM KENNEDY FRIED CHICKEN         Queens    16614   \n",
       "\n",
       "             STREET ZIPCODE       PHONE CUISINE DESCRIPTION INSPECTION DATE  \\\n",
       "0  WEST   35 STREET   10001  2129674000               Irish       6/17/2019   \n",
       "1  WEST   66 STREET   10023  6467408369            American      10/31/2019   \n",
       "2      OGDEN AVENUE   10452  6469059373             Chicken       12/6/2018   \n",
       "3   HYLAN BOULEVARD   10306  7186505050            American       8/29/2018   \n",
       "4      HILLSIDE AVE   11432  7183744616         Bangladeshi       2/20/2020   \n",
       "\n",
       "                                            ACTION  ...   Latitude  Longitude  \\\n",
       "0  Violations were cited in the following area(s).  ...  40.749603 -73.985267   \n",
       "1  Violations were cited in the following area(s).  ...  40.772987 -73.980081   \n",
       "2  Violations were cited in the following area(s).  ...  40.838249 -73.926329   \n",
       "3  Violations were cited in the following area(s).  ...  40.575370 -74.104831   \n",
       "4  Violations were cited in the following area(s).  ...  40.709572 -73.796195   \n",
       "\n",
       "  Community Board  Council District Census Tract        BIN           BBL  \\\n",
       "0           105.0               4.0       8400.0  1015891.0  1.008370e+09   \n",
       "1           107.0               6.0      15300.0  1081016.0  1.011190e+09   \n",
       "2           204.0              16.0      19900.0  2003298.0  2.025160e+09   \n",
       "3           502.0              50.0      12200.0  5107538.0  5.036150e+09   \n",
       "4           412.0              27.0      46000.0  4210082.0  4.098180e+09   \n",
       "\n",
       "    NTA  YEAR                     ADDRESS  \n",
       "0  MN17  2019   29,WEST   35 STREET,10001  \n",
       "1  MN14  2019   47,WEST   66 STREET,10023  \n",
       "2  BX26  2018     1220,OGDEN AVENUE,10452  \n",
       "3  SI45  2018  2271,HYLAN BOULEVARD,10306  \n",
       "4  QN61  2020    16614,HILLSIDE AVE,11432  \n",
       "\n",
       "[5 rows x 29 columns]"
      ],
      "text/html": "<div>\n<style scoped>\n    .dataframe tbody tr th:only-of-type {\n        vertical-align: middle;\n    }\n\n    .dataframe tbody tr th {\n        vertical-align: top;\n    }\n\n    .dataframe thead th {\n        text-align: right;\n    }\n</style>\n<table border=\"1\" class=\"dataframe\">\n  <thead>\n    <tr style=\"text-align: right;\">\n      <th></th>\n      <th>CAMIS</th>\n      <th>DBA</th>\n      <th>BORO</th>\n      <th>BUILDING</th>\n      <th>STREET</th>\n      <th>ZIPCODE</th>\n      <th>PHONE</th>\n      <th>CUISINE DESCRIPTION</th>\n      <th>INSPECTION DATE</th>\n      <th>ACTION</th>\n      <th>...</th>\n      <th>Latitude</th>\n      <th>Longitude</th>\n      <th>Community Board</th>\n      <th>Council District</th>\n      <th>Census Tract</th>\n      <th>BIN</th>\n      <th>BBL</th>\n      <th>NTA</th>\n      <th>YEAR</th>\n      <th>ADDRESS</th>\n    </tr>\n  </thead>\n  <tbody>\n    <tr>\n      <th>0</th>\n      <td>41651801</td>\n      <td>THE LIBERTY</td>\n      <td>Manhattan</td>\n      <td>29</td>\n      <td>WEST   35 STREET</td>\n      <td>10001</td>\n      <td>2129674000</td>\n      <td>Irish</td>\n      <td>6/17/2019</td>\n      <td>Violations were cited in the following area(s).</td>\n      <td>...</td>\n      <td>40.749603</td>\n      <td>-73.985267</td>\n      <td>105.0</td>\n      <td>4.0</td>\n      <td>8400.0</td>\n      <td>1015891.0</td>\n      <td>1.008370e+09</td>\n      <td>MN17</td>\n      <td>2019</td>\n      <td>29,WEST   35 STREET,10001</td>\n    </tr>\n    <tr>\n      <th>1</th>\n      <td>50074624</td>\n      <td>CAFE 47</td>\n      <td>Manhattan</td>\n      <td>47</td>\n      <td>WEST   66 STREET</td>\n      <td>10023</td>\n      <td>6467408369</td>\n      <td>American</td>\n      <td>10/31/2019</td>\n      <td>Violations were cited in the following area(s).</td>\n      <td>...</td>\n      <td>40.772987</td>\n      <td>-73.980081</td>\n      <td>107.0</td>\n      <td>6.0</td>\n      <td>15300.0</td>\n      <td>1081016.0</td>\n      <td>1.011190e+09</td>\n      <td>MN14</td>\n      <td>2019</td>\n      <td>47,WEST   66 STREET,10023</td>\n    </tr>\n    <tr>\n      <th>2</th>\n      <td>50082531</td>\n      <td>KENNEDY FRIED CHICKEN</td>\n      <td>Bronx</td>\n      <td>1220</td>\n      <td>OGDEN AVENUE</td>\n      <td>10452</td>\n      <td>6469059373</td>\n      <td>Chicken</td>\n      <td>12/6/2018</td>\n      <td>Violations were cited in the following area(s).</td>\n      <td>...</td>\n      <td>40.838249</td>\n      <td>-73.926329</td>\n      <td>204.0</td>\n      <td>16.0</td>\n      <td>19900.0</td>\n      <td>2003298.0</td>\n      <td>2.025160e+09</td>\n      <td>BX26</td>\n      <td>2018</td>\n      <td>1220,OGDEN AVENUE,10452</td>\n    </tr>\n    <tr>\n      <th>3</th>\n      <td>50071207</td>\n      <td>VIOLETTE'S CELLAR</td>\n      <td>Staten Island</td>\n      <td>2271</td>\n      <td>HYLAN BOULEVARD</td>\n      <td>10306</td>\n      <td>7186505050</td>\n      <td>American</td>\n      <td>8/29/2018</td>\n      <td>Violations were cited in the following area(s).</td>\n      <td>...</td>\n      <td>40.575370</td>\n      <td>-74.104831</td>\n      <td>502.0</td>\n      <td>50.0</td>\n      <td>12200.0</td>\n      <td>5107538.0</td>\n      <td>5.036150e+09</td>\n      <td>SI45</td>\n      <td>2018</td>\n      <td>2271,HYLAN BOULEVARD,10306</td>\n    </tr>\n    <tr>\n      <th>4</th>\n      <td>50090691</td>\n      <td>SALIM KENNEDY FRIED CHICKEN</td>\n      <td>Queens</td>\n      <td>16614</td>\n      <td>HILLSIDE AVE</td>\n      <td>11432</td>\n      <td>7183744616</td>\n      <td>Bangladeshi</td>\n      <td>2/20/2020</td>\n      <td>Violations were cited in the following area(s).</td>\n      <td>...</td>\n      <td>40.709572</td>\n      <td>-73.796195</td>\n      <td>412.0</td>\n      <td>27.0</td>\n      <td>46000.0</td>\n      <td>4210082.0</td>\n      <td>4.098180e+09</td>\n      <td>QN61</td>\n      <td>2020</td>\n      <td>16614,HILLSIDE AVE,11432</td>\n    </tr>\n  </tbody>\n</table>\n<p>5 rows × 29 columns</p>\n</div>"
     },
     "metadata": {},
     "execution_count": 7
    }
   ],
   "source": [
    "df_cleaned =df.dropna(subset=['Latitude', 'Longitude'])\n",
    "df_cleaned.head()"
   ]
  },
  {
   "cell_type": "code",
   "execution_count": 8,
   "metadata": {},
   "outputs": [
    {
     "output_type": "execute_result",
     "data": {
      "text/plain": [
       "      CAMIS                          DBA           BORO       PHONE  \\\n",
       "0  41651801                  THE LIBERTY      Manhattan  2129674000   \n",
       "1  50074624                      CAFE 47      Manhattan  6467408369   \n",
       "2  50082531        KENNEDY FRIED CHICKEN          Bronx  6469059373   \n",
       "3  50071207            VIOLETTE'S CELLAR  Staten Island  7186505050   \n",
       "4  50090691  SALIM KENNEDY FRIED CHICKEN         Queens  7183744616   \n",
       "\n",
       "  CUISINE DESCRIPTION                                           ACTION  \\\n",
       "0               Irish  Violations were cited in the following area(s).   \n",
       "1            American  Violations were cited in the following area(s).   \n",
       "2             Chicken  Violations were cited in the following area(s).   \n",
       "3            American  Violations were cited in the following area(s).   \n",
       "4         Bangladeshi  Violations were cited in the following area(s).   \n",
       "\n",
       "  VIOLATION CODE                              VIOLATION DESCRIPTION  \\\n",
       "0            02G  Cold food item held above 41º F (smoked fish a...   \n",
       "1            04L  Evidence of mice or live mice present in facil...   \n",
       "2            10D  Mechanical or natural ventilation system not p...   \n",
       "3            04N  Filth flies or food/refuse/sewage-associated (...   \n",
       "4            08A  Facility not vermin proof. Harborage or condit...   \n",
       "\n",
       "  CRITICAL FLAG  SCORE GRADE                           INSPECTION TYPE  \\\n",
       "0             Y     12     A          Cycle Inspection / Re-inspection   \n",
       "1             Y     12     A     Cycle Inspection / Initial Inspection   \n",
       "2             N     11     A  Pre-permit (Operational) / Re-inspection   \n",
       "3             Y     38   NaN     Cycle Inspection / Initial Inspection   \n",
       "4             N     20   NaN     Cycle Inspection / Initial Inspection   \n",
       "\n",
       "  INSPECTION TYPE GENERAL   Latitude  Longitude  Year  \\\n",
       "0           Re-inspection  40.749603 -73.985267  2019   \n",
       "1      Initial Inspection  40.772987 -73.980081  2019   \n",
       "2           Re-inspection  40.838249 -73.926329  2018   \n",
       "3      Initial Inspection  40.575370 -74.104831  2018   \n",
       "4      Initial Inspection  40.709572 -73.796195  2020   \n",
       "\n",
       "                      Address  \n",
       "0   29,WEST   35 STREET,10001  \n",
       "1   47,WEST   66 STREET,10023  \n",
       "2     1220,OGDEN AVENUE,10452  \n",
       "3  2271,HYLAN BOULEVARD,10306  \n",
       "4    16614,HILLSIDE AVE,11432  "
      ],
      "text/html": "<div>\n<style scoped>\n    .dataframe tbody tr th:only-of-type {\n        vertical-align: middle;\n    }\n\n    .dataframe tbody tr th {\n        vertical-align: top;\n    }\n\n    .dataframe thead th {\n        text-align: right;\n    }\n</style>\n<table border=\"1\" class=\"dataframe\">\n  <thead>\n    <tr style=\"text-align: right;\">\n      <th></th>\n      <th>CAMIS</th>\n      <th>DBA</th>\n      <th>BORO</th>\n      <th>PHONE</th>\n      <th>CUISINE DESCRIPTION</th>\n      <th>ACTION</th>\n      <th>VIOLATION CODE</th>\n      <th>VIOLATION DESCRIPTION</th>\n      <th>CRITICAL FLAG</th>\n      <th>SCORE</th>\n      <th>GRADE</th>\n      <th>INSPECTION TYPE</th>\n      <th>INSPECTION TYPE GENERAL</th>\n      <th>Latitude</th>\n      <th>Longitude</th>\n      <th>Year</th>\n      <th>Address</th>\n    </tr>\n  </thead>\n  <tbody>\n    <tr>\n      <th>0</th>\n      <td>41651801</td>\n      <td>THE LIBERTY</td>\n      <td>Manhattan</td>\n      <td>2129674000</td>\n      <td>Irish</td>\n      <td>Violations were cited in the following area(s).</td>\n      <td>02G</td>\n      <td>Cold food item held above 41º F (smoked fish a...</td>\n      <td>Y</td>\n      <td>12</td>\n      <td>A</td>\n      <td>Cycle Inspection / Re-inspection</td>\n      <td>Re-inspection</td>\n      <td>40.749603</td>\n      <td>-73.985267</td>\n      <td>2019</td>\n      <td>29,WEST   35 STREET,10001</td>\n    </tr>\n    <tr>\n      <th>1</th>\n      <td>50074624</td>\n      <td>CAFE 47</td>\n      <td>Manhattan</td>\n      <td>6467408369</td>\n      <td>American</td>\n      <td>Violations were cited in the following area(s).</td>\n      <td>04L</td>\n      <td>Evidence of mice or live mice present in facil...</td>\n      <td>Y</td>\n      <td>12</td>\n      <td>A</td>\n      <td>Cycle Inspection / Initial Inspection</td>\n      <td>Initial Inspection</td>\n      <td>40.772987</td>\n      <td>-73.980081</td>\n      <td>2019</td>\n      <td>47,WEST   66 STREET,10023</td>\n    </tr>\n    <tr>\n      <th>2</th>\n      <td>50082531</td>\n      <td>KENNEDY FRIED CHICKEN</td>\n      <td>Bronx</td>\n      <td>6469059373</td>\n      <td>Chicken</td>\n      <td>Violations were cited in the following area(s).</td>\n      <td>10D</td>\n      <td>Mechanical or natural ventilation system not p...</td>\n      <td>N</td>\n      <td>11</td>\n      <td>A</td>\n      <td>Pre-permit (Operational) / Re-inspection</td>\n      <td>Re-inspection</td>\n      <td>40.838249</td>\n      <td>-73.926329</td>\n      <td>2018</td>\n      <td>1220,OGDEN AVENUE,10452</td>\n    </tr>\n    <tr>\n      <th>3</th>\n      <td>50071207</td>\n      <td>VIOLETTE'S CELLAR</td>\n      <td>Staten Island</td>\n      <td>7186505050</td>\n      <td>American</td>\n      <td>Violations were cited in the following area(s).</td>\n      <td>04N</td>\n      <td>Filth flies or food/refuse/sewage-associated (...</td>\n      <td>Y</td>\n      <td>38</td>\n      <td>NaN</td>\n      <td>Cycle Inspection / Initial Inspection</td>\n      <td>Initial Inspection</td>\n      <td>40.575370</td>\n      <td>-74.104831</td>\n      <td>2018</td>\n      <td>2271,HYLAN BOULEVARD,10306</td>\n    </tr>\n    <tr>\n      <th>4</th>\n      <td>50090691</td>\n      <td>SALIM KENNEDY FRIED CHICKEN</td>\n      <td>Queens</td>\n      <td>7183744616</td>\n      <td>Bangladeshi</td>\n      <td>Violations were cited in the following area(s).</td>\n      <td>08A</td>\n      <td>Facility not vermin proof. Harborage or condit...</td>\n      <td>N</td>\n      <td>20</td>\n      <td>NaN</td>\n      <td>Cycle Inspection / Initial Inspection</td>\n      <td>Initial Inspection</td>\n      <td>40.709572</td>\n      <td>-73.796195</td>\n      <td>2020</td>\n      <td>16614,HILLSIDE AVE,11432</td>\n    </tr>\n  </tbody>\n</table>\n</div>"
     },
     "metadata": {},
     "execution_count": 8
    }
   ],
   "source": [
    "df_cleaned = df_new.drop(columns=['BUILDING', 'STREET', 'ZIPCODE'])\n",
    "df_cleaned.head()"
   ]
  },
  {
   "cell_type": "code",
   "execution_count": 10,
   "metadata": {},
   "outputs": [
    {
     "output_type": "execute_result",
     "data": {
      "text/plain": [
       "           CAMIS                                 DBA       BORO       PHONE  \\\n",
       "0       41651801                         THE LIBERTY  Manhattan  2129674000   \n",
       "1       50074624                             CAFE 47  Manhattan  6467408369   \n",
       "4       50090691         SALIM KENNEDY FRIED CHICKEN     Queens  7183744616   \n",
       "5       40394176                     MOONSTRUCK EAST  Manhattan  2122131100   \n",
       "6       50090753                  LYDIG COFFEE HOUSE      Bronx  3477036610   \n",
       "...          ...                                 ...        ...         ...   \n",
       "288705  50000040                    D & Y RESTAURANT   Brooklyn  7184928808   \n",
       "288707  41322562  MARGARITA'S RESTAURANT & SPORT BAR     Queens  7182051705   \n",
       "288708  50083067                          GOLDEN WOK     Queens  7183922333   \n",
       "288709  50002890               NEW FONG KWAN KITCHEN     Queens  7184974461   \n",
       "288710  50070281                           Aji Sushi  Manhattan  2126862055   \n",
       "\n",
       "                                      CUISINE DESCRIPTION  \\\n",
       "0                                                   Irish   \n",
       "1                                                American   \n",
       "4                                             Bangladeshi   \n",
       "5                                                American   \n",
       "6                                                American   \n",
       "...                                                   ...   \n",
       "288705                                            Chinese   \n",
       "288707  Latin (Cuban, Dominican, Puerto Rican, South &...   \n",
       "288708                                            Chinese   \n",
       "288709                                            Chinese   \n",
       "288710                                           Japanese   \n",
       "\n",
       "                                                   ACTION VIOLATION CODE  \\\n",
       "0         Violations were cited in the following area(s).            02G   \n",
       "1         Violations were cited in the following area(s).            04L   \n",
       "4         Violations were cited in the following area(s).            08A   \n",
       "5         Violations were cited in the following area(s).            06A   \n",
       "6         Violations were cited in the following area(s).            02B   \n",
       "...                                                   ...            ...   \n",
       "288705    Violations were cited in the following area(s).            06C   \n",
       "288707    Violations were cited in the following area(s).            04H   \n",
       "288708  Establishment Closed by DOHMH.  Violations wer...            10F   \n",
       "288709    Violations were cited in the following area(s).            02B   \n",
       "288710    Violations were cited in the following area(s).            04L   \n",
       "\n",
       "                                    VIOLATION DESCRIPTION CRITICAL FLAG  \\\n",
       "0       Cold food item held above 41º F (smoked fish a...             Y   \n",
       "1       Evidence of mice or live mice present in facil...             Y   \n",
       "4       Facility not vermin proof. Harborage or condit...             N   \n",
       "5       Personal cleanliness inadequate. Outer garment...             Y   \n",
       "6              Hot food item not held at or above 140º F.             Y   \n",
       "...                                                   ...           ...   \n",
       "288705  Food not protected from potential source of co...             Y   \n",
       "288707  Raw, cooked or prepared food is adulterated, c...             Y   \n",
       "288708  Non-food contact surface improperly constructe...             N   \n",
       "288709         Hot food item not held at or above 140º F.             Y   \n",
       "288710  Evidence of mice or live mice present in facil...             Y   \n",
       "\n",
       "        SCORE GRADE                                INSPECTION TYPE  \\\n",
       "0          12     A               Cycle Inspection / Re-inspection   \n",
       "1          12     A          Cycle Inspection / Initial Inspection   \n",
       "4          20   NaN          Cycle Inspection / Initial Inspection   \n",
       "5          43   NaN          Cycle Inspection / Initial Inspection   \n",
       "6          28   NaN  Pre-permit (Operational) / Initial Inspection   \n",
       "...       ...   ...                                            ...   \n",
       "288705     12   NaN          Cycle Inspection / Initial Inspection   \n",
       "288707     27   NaN          Cycle Inspection / Initial Inspection   \n",
       "288708     46   NaN          Cycle Inspection / Initial Inspection   \n",
       "288709     20   NaN          Cycle Inspection / Initial Inspection   \n",
       "288710     10   NaN          Cycle Inspection / Initial Inspection   \n",
       "\n",
       "       INSPECTION TYPE GENERAL   Latitude  Longitude  Year  \\\n",
       "0                Re-inspection  40.749603 -73.985267  2019   \n",
       "1           Initial Inspection  40.772987 -73.980081  2019   \n",
       "4           Initial Inspection  40.709572 -73.796195  2020   \n",
       "5           Initial Inspection  40.743720 -73.979567  2019   \n",
       "6           Initial Inspection  40.854477 -73.866550  2019   \n",
       "...                        ...        ...        ...   ...   \n",
       "288705      Initial Inspection  40.638934 -74.009570  2019   \n",
       "288707      Initial Inspection  40.749860 -73.883092  2019   \n",
       "288708      Initial Inspection  40.745284 -73.921802  2019   \n",
       "288709      Initial Inspection  40.712446 -73.894524  2019   \n",
       "288710      Initial Inspection  40.746165 -73.977783  2019   \n",
       "\n",
       "                                Address  \n",
       "0             29,WEST   35 STREET,10001  \n",
       "1             47,WEST   66 STREET,10023  \n",
       "4              16614,HILLSIDE AVE,11432  \n",
       "5                449,THIRD AVENUE,10016  \n",
       "6                721,LYDIG AVENUE,10462  \n",
       "...                                 ...  \n",
       "288705              5616,7 AVENUE,11220  \n",
       "288707            83-22,37 AVENUE,11372  \n",
       "288708            42-18,43 AVENUE,11104  \n",
       "288709  65-48,METROPOLITAN AVENUE,11379  \n",
       "288710               519,3 AVENUE,10016  \n",
       "\n",
       "[173276 rows x 17 columns]"
      ],
      "text/html": "<div>\n<style scoped>\n    .dataframe tbody tr th:only-of-type {\n        vertical-align: middle;\n    }\n\n    .dataframe tbody tr th {\n        vertical-align: top;\n    }\n\n    .dataframe thead th {\n        text-align: right;\n    }\n</style>\n<table border=\"1\" class=\"dataframe\">\n  <thead>\n    <tr style=\"text-align: right;\">\n      <th></th>\n      <th>CAMIS</th>\n      <th>DBA</th>\n      <th>BORO</th>\n      <th>PHONE</th>\n      <th>CUISINE DESCRIPTION</th>\n      <th>ACTION</th>\n      <th>VIOLATION CODE</th>\n      <th>VIOLATION DESCRIPTION</th>\n      <th>CRITICAL FLAG</th>\n      <th>SCORE</th>\n      <th>GRADE</th>\n      <th>INSPECTION TYPE</th>\n      <th>INSPECTION TYPE GENERAL</th>\n      <th>Latitude</th>\n      <th>Longitude</th>\n      <th>Year</th>\n      <th>Address</th>\n    </tr>\n  </thead>\n  <tbody>\n    <tr>\n      <th>0</th>\n      <td>41651801</td>\n      <td>THE LIBERTY</td>\n      <td>Manhattan</td>\n      <td>2129674000</td>\n      <td>Irish</td>\n      <td>Violations were cited in the following area(s).</td>\n      <td>02G</td>\n      <td>Cold food item held above 41º F (smoked fish a...</td>\n      <td>Y</td>\n      <td>12</td>\n      <td>A</td>\n      <td>Cycle Inspection / Re-inspection</td>\n      <td>Re-inspection</td>\n      <td>40.749603</td>\n      <td>-73.985267</td>\n      <td>2019</td>\n      <td>29,WEST   35 STREET,10001</td>\n    </tr>\n    <tr>\n      <th>1</th>\n      <td>50074624</td>\n      <td>CAFE 47</td>\n      <td>Manhattan</td>\n      <td>6467408369</td>\n      <td>American</td>\n      <td>Violations were cited in the following area(s).</td>\n      <td>04L</td>\n      <td>Evidence of mice or live mice present in facil...</td>\n      <td>Y</td>\n      <td>12</td>\n      <td>A</td>\n      <td>Cycle Inspection / Initial Inspection</td>\n      <td>Initial Inspection</td>\n      <td>40.772987</td>\n      <td>-73.980081</td>\n      <td>2019</td>\n      <td>47,WEST   66 STREET,10023</td>\n    </tr>\n    <tr>\n      <th>4</th>\n      <td>50090691</td>\n      <td>SALIM KENNEDY FRIED CHICKEN</td>\n      <td>Queens</td>\n      <td>7183744616</td>\n      <td>Bangladeshi</td>\n      <td>Violations were cited in the following area(s).</td>\n      <td>08A</td>\n      <td>Facility not vermin proof. Harborage or condit...</td>\n      <td>N</td>\n      <td>20</td>\n      <td>NaN</td>\n      <td>Cycle Inspection / Initial Inspection</td>\n      <td>Initial Inspection</td>\n      <td>40.709572</td>\n      <td>-73.796195</td>\n      <td>2020</td>\n      <td>16614,HILLSIDE AVE,11432</td>\n    </tr>\n    <tr>\n      <th>5</th>\n      <td>40394176</td>\n      <td>MOONSTRUCK EAST</td>\n      <td>Manhattan</td>\n      <td>2122131100</td>\n      <td>American</td>\n      <td>Violations were cited in the following area(s).</td>\n      <td>06A</td>\n      <td>Personal cleanliness inadequate. Outer garment...</td>\n      <td>Y</td>\n      <td>43</td>\n      <td>NaN</td>\n      <td>Cycle Inspection / Initial Inspection</td>\n      <td>Initial Inspection</td>\n      <td>40.743720</td>\n      <td>-73.979567</td>\n      <td>2019</td>\n      <td>449,THIRD AVENUE,10016</td>\n    </tr>\n    <tr>\n      <th>6</th>\n      <td>50090753</td>\n      <td>LYDIG COFFEE HOUSE</td>\n      <td>Bronx</td>\n      <td>3477036610</td>\n      <td>American</td>\n      <td>Violations were cited in the following area(s).</td>\n      <td>02B</td>\n      <td>Hot food item not held at or above 140º F.</td>\n      <td>Y</td>\n      <td>28</td>\n      <td>NaN</td>\n      <td>Pre-permit (Operational) / Initial Inspection</td>\n      <td>Initial Inspection</td>\n      <td>40.854477</td>\n      <td>-73.866550</td>\n      <td>2019</td>\n      <td>721,LYDIG AVENUE,10462</td>\n    </tr>\n    <tr>\n      <th>...</th>\n      <td>...</td>\n      <td>...</td>\n      <td>...</td>\n      <td>...</td>\n      <td>...</td>\n      <td>...</td>\n      <td>...</td>\n      <td>...</td>\n      <td>...</td>\n      <td>...</td>\n      <td>...</td>\n      <td>...</td>\n      <td>...</td>\n      <td>...</td>\n      <td>...</td>\n      <td>...</td>\n      <td>...</td>\n    </tr>\n    <tr>\n      <th>288705</th>\n      <td>50000040</td>\n      <td>D &amp; Y RESTAURANT</td>\n      <td>Brooklyn</td>\n      <td>7184928808</td>\n      <td>Chinese</td>\n      <td>Violations were cited in the following area(s).</td>\n      <td>06C</td>\n      <td>Food not protected from potential source of co...</td>\n      <td>Y</td>\n      <td>12</td>\n      <td>NaN</td>\n      <td>Cycle Inspection / Initial Inspection</td>\n      <td>Initial Inspection</td>\n      <td>40.638934</td>\n      <td>-74.009570</td>\n      <td>2019</td>\n      <td>5616,7 AVENUE,11220</td>\n    </tr>\n    <tr>\n      <th>288707</th>\n      <td>41322562</td>\n      <td>MARGARITA'S RESTAURANT &amp; SPORT BAR</td>\n      <td>Queens</td>\n      <td>7182051705</td>\n      <td>Latin (Cuban, Dominican, Puerto Rican, South &amp;...</td>\n      <td>Violations were cited in the following area(s).</td>\n      <td>04H</td>\n      <td>Raw, cooked or prepared food is adulterated, c...</td>\n      <td>Y</td>\n      <td>27</td>\n      <td>NaN</td>\n      <td>Cycle Inspection / Initial Inspection</td>\n      <td>Initial Inspection</td>\n      <td>40.749860</td>\n      <td>-73.883092</td>\n      <td>2019</td>\n      <td>83-22,37 AVENUE,11372</td>\n    </tr>\n    <tr>\n      <th>288708</th>\n      <td>50083067</td>\n      <td>GOLDEN WOK</td>\n      <td>Queens</td>\n      <td>7183922333</td>\n      <td>Chinese</td>\n      <td>Establishment Closed by DOHMH.  Violations wer...</td>\n      <td>10F</td>\n      <td>Non-food contact surface improperly constructe...</td>\n      <td>N</td>\n      <td>46</td>\n      <td>NaN</td>\n      <td>Cycle Inspection / Initial Inspection</td>\n      <td>Initial Inspection</td>\n      <td>40.745284</td>\n      <td>-73.921802</td>\n      <td>2019</td>\n      <td>42-18,43 AVENUE,11104</td>\n    </tr>\n    <tr>\n      <th>288709</th>\n      <td>50002890</td>\n      <td>NEW FONG KWAN KITCHEN</td>\n      <td>Queens</td>\n      <td>7184974461</td>\n      <td>Chinese</td>\n      <td>Violations were cited in the following area(s).</td>\n      <td>02B</td>\n      <td>Hot food item not held at or above 140º F.</td>\n      <td>Y</td>\n      <td>20</td>\n      <td>NaN</td>\n      <td>Cycle Inspection / Initial Inspection</td>\n      <td>Initial Inspection</td>\n      <td>40.712446</td>\n      <td>-73.894524</td>\n      <td>2019</td>\n      <td>65-48,METROPOLITAN AVENUE,11379</td>\n    </tr>\n    <tr>\n      <th>288710</th>\n      <td>50070281</td>\n      <td>Aji Sushi</td>\n      <td>Manhattan</td>\n      <td>2126862055</td>\n      <td>Japanese</td>\n      <td>Violations were cited in the following area(s).</td>\n      <td>04L</td>\n      <td>Evidence of mice or live mice present in facil...</td>\n      <td>Y</td>\n      <td>10</td>\n      <td>NaN</td>\n      <td>Cycle Inspection / Initial Inspection</td>\n      <td>Initial Inspection</td>\n      <td>40.746165</td>\n      <td>-73.977783</td>\n      <td>2019</td>\n      <td>519,3 AVENUE,10016</td>\n    </tr>\n  </tbody>\n</table>\n<p>173276 rows × 17 columns</p>\n</div>"
     },
     "metadata": {},
     "execution_count": 10
    }
   ],
   "source": [
    "df_cleaned1920 = df_cleaned.loc[(df_cleaned['Year'] >='2019')]\n",
    "df_cleaned1920"
   ]
  },
  {
   "cell_type": "code",
   "execution_count": 25,
   "metadata": {},
   "outputs": [
    {
     "output_type": "execute_result",
     "data": {
      "text/plain": [
       "CAMIS                      25703\n",
       "DBA                        20651\n",
       "BORO                           6\n",
       "PHONE                      24306\n",
       "CUISINE DESCRIPTION           84\n",
       "ACTION                         5\n",
       "VIOLATION CODE                67\n",
       "VIOLATION DESCRIPTION         64\n",
       "CRITICAL FLAG                  2\n",
       "SCORE                        130\n",
       "GRADE                          7\n",
       "INSPECTION TYPE               14\n",
       "INSPECTION TYPE GENERAL        5\n",
       "Latitude                   21574\n",
       "Longitude                  21593\n",
       "Year                           2\n",
       "Address                    22458\n",
       "dtype: int64"
      ]
     },
     "metadata": {},
     "execution_count": 25
    }
   ],
   "source": [
    "df_cleaned1920.nunique()"
   ]
  },
  {
   "cell_type": "code",
   "execution_count": 12,
   "metadata": {},
   "outputs": [],
   "source": [
    "df_cleaned1920.to_csv(\"DOHMH_New_York_City_Restaurant_Inspection_Results_Clean1920.csv\", index=False, header=True)"
   ]
  },
  {
   "cell_type": "code",
   "execution_count": 9,
   "metadata": {},
   "outputs": [
    {
     "output_type": "execute_result",
     "data": {
      "text/plain": [
       "           CAMIS                           DBA           BORO BUILDING  \\\n",
       "4       50090691   SALIM KENNEDY FRIED CHICKEN         Queens    16614   \n",
       "19      50095392               HOPE TO SEE YOU         Queens   133-42   \n",
       "22      50033575      JACQUES TORRES ICE CREAM      Manhattan       89   \n",
       "23      50089342  REGAL CINEMAS ESSEX CROSSING      Manhattan      129   \n",
       "35      50033875                      ARIANA'S  Staten Island       60   \n",
       "...          ...                           ...            ...      ...   \n",
       "381592  50086667             JJ'S ASIAN FUSION         Queens    37-05   \n",
       "381603  41691396                         SAM'S         Queens    89-06   \n",
       "381618  50102250         XOXO KITCHEN & BAKERY         Queens      883   \n",
       "381622  41683337           AVLEE GREEK KITCHEN       Brooklyn      349   \n",
       "381640  50016747                   SARKU JAPAN          Bronx      815   \n",
       "\n",
       "                          STREET ZIPCODE       PHONE  \\\n",
       "4                   HILLSIDE AVE   11432  7183744616   \n",
       "19                     39 AVENUE   11354  7188881669   \n",
       "22              EAST   42 STREET   10017  2129837353   \n",
       "23               DELANCEY STREET   10002  2124755768   \n",
       "35           SOUTH BRIDGE STREET   10309  7189678500   \n",
       "...                          ...     ...         ...   \n",
       "381592                 31 AVENUE   11103  7186268888   \n",
       "381603        NORTHERN BOULEVARD   11372  7183353800   \n",
       "381618            CYPRESS AVENUE   11385  5189307739   \n",
       "381622              SMITH STREET   11231  7188555125   \n",
       "381640  HUTCHINSON RIVER PARKWAY   10465  7182391460   \n",
       "\n",
       "                    CUISINE DESCRIPTION INSPECTION DATE  \\\n",
       "4                           Bangladeshi       2/20/2020   \n",
       "19                              Chinese        1/2/2020   \n",
       "22      Ice Cream, Gelato, Yogurt, Ices        3/9/2020   \n",
       "23                             American       3/13/2020   \n",
       "35                              Italian       1/23/2020   \n",
       "...                                 ...             ...   \n",
       "381592                         Japanese       2/12/2020   \n",
       "381603                            Pizza       1/28/2020   \n",
       "381618                         American       2/25/2020   \n",
       "381622                            Greek       2/20/2020   \n",
       "381640                         Japanese       3/16/2020   \n",
       "\n",
       "                                                   ACTION  ...   Latitude  \\\n",
       "4         Violations were cited in the following area(s).  ...  40.709572   \n",
       "19        Violations were cited in the following area(s).  ...  40.759099   \n",
       "22        Violations were cited in the following area(s).  ...  40.752094   \n",
       "23        Violations were cited in the following area(s).  ...  40.718327   \n",
       "35        Violations were cited in the following area(s).  ...  40.525075   \n",
       "...                                                   ...  ...        ...   \n",
       "381592    Violations were cited in the following area(s).  ...  40.762006   \n",
       "381603    Violations were cited in the following area(s).  ...  40.756245   \n",
       "381618  No violations were recorded at the time of thi...  ...  40.699365   \n",
       "381622    Violations were cited in the following area(s).  ...  40.680002   \n",
       "381640    Violations were cited in the following area(s).  ...  40.823678   \n",
       "\n",
       "        Longitude Community Board  Council District Census Tract        BIN  \\\n",
       "4      -73.796195           412.0              27.0      46000.0  4210082.0   \n",
       "19     -73.834139           407.0              20.0      87100.0  4596186.0   \n",
       "22     -73.977604           105.0               4.0       9200.0  1035381.0   \n",
       "23     -73.987518           103.0               1.0       1800.0  1090554.0   \n",
       "35     -74.236617           503.0              51.0      22600.0  5000000.0   \n",
       "...           ...             ...               ...          ...        ...   \n",
       "381592 -73.918537           401.0              22.0       6300.0  4010552.0   \n",
       "381603 -73.878681           403.0              25.0      27700.0  4035403.0   \n",
       "381618 -73.904924           405.0              34.0      55300.0  4085863.0   \n",
       "381622 -73.995007           306.0              39.0       7700.0  3007558.0   \n",
       "381640 -73.836420           210.0              13.0       9000.0  2080263.0   \n",
       "\n",
       "                 BBL   NTA  YEAR                             ADDRESS  \n",
       "4       4.098180e+09  QN61  2020            16614,HILLSIDE AVE,11432  \n",
       "19      4.049738e+09  QN22  2020              133-42,39 AVENUE,11354  \n",
       "22      1.012800e+09  MN19  2020           89,EAST   42 STREET,10017  \n",
       "23      1.003528e+09  MN27  2020           129,DELANCEY STREET,10002  \n",
       "35      5.075840e+09  SI11  2020        60,SOUTH BRIDGE STREET,10309  \n",
       "...              ...   ...   ...                                 ...  \n",
       "381592  4.006590e+09  QN70  2020               37-05,31 AVENUE,11103  \n",
       "381603  4.014370e+09  QN28  2020      89-06,NORTHERN BOULEVARD,11372  \n",
       "381618  4.035600e+09  QN20  2020            883,CYPRESS AVENUE,11385  \n",
       "381622  3.004500e+09  BK33  2020              349,SMITH STREET,11231  \n",
       "381640  2.055598e+09  BX09  2020  815,HUTCHINSON RIVER PARKWAY,10465  \n",
       "\n",
       "[30643 rows x 29 columns]"
      ],
      "text/html": "<div>\n<style scoped>\n    .dataframe tbody tr th:only-of-type {\n        vertical-align: middle;\n    }\n\n    .dataframe tbody tr th {\n        vertical-align: top;\n    }\n\n    .dataframe thead th {\n        text-align: right;\n    }\n</style>\n<table border=\"1\" class=\"dataframe\">\n  <thead>\n    <tr style=\"text-align: right;\">\n      <th></th>\n      <th>CAMIS</th>\n      <th>DBA</th>\n      <th>BORO</th>\n      <th>BUILDING</th>\n      <th>STREET</th>\n      <th>ZIPCODE</th>\n      <th>PHONE</th>\n      <th>CUISINE DESCRIPTION</th>\n      <th>INSPECTION DATE</th>\n      <th>ACTION</th>\n      <th>...</th>\n      <th>Latitude</th>\n      <th>Longitude</th>\n      <th>Community Board</th>\n      <th>Council District</th>\n      <th>Census Tract</th>\n      <th>BIN</th>\n      <th>BBL</th>\n      <th>NTA</th>\n      <th>YEAR</th>\n      <th>ADDRESS</th>\n    </tr>\n  </thead>\n  <tbody>\n    <tr>\n      <th>4</th>\n      <td>50090691</td>\n      <td>SALIM KENNEDY FRIED CHICKEN</td>\n      <td>Queens</td>\n      <td>16614</td>\n      <td>HILLSIDE AVE</td>\n      <td>11432</td>\n      <td>7183744616</td>\n      <td>Bangladeshi</td>\n      <td>2/20/2020</td>\n      <td>Violations were cited in the following area(s).</td>\n      <td>...</td>\n      <td>40.709572</td>\n      <td>-73.796195</td>\n      <td>412.0</td>\n      <td>27.0</td>\n      <td>46000.0</td>\n      <td>4210082.0</td>\n      <td>4.098180e+09</td>\n      <td>QN61</td>\n      <td>2020</td>\n      <td>16614,HILLSIDE AVE,11432</td>\n    </tr>\n    <tr>\n      <th>19</th>\n      <td>50095392</td>\n      <td>HOPE TO SEE YOU</td>\n      <td>Queens</td>\n      <td>133-42</td>\n      <td>39 AVENUE</td>\n      <td>11354</td>\n      <td>7188881669</td>\n      <td>Chinese</td>\n      <td>1/2/2020</td>\n      <td>Violations were cited in the following area(s).</td>\n      <td>...</td>\n      <td>40.759099</td>\n      <td>-73.834139</td>\n      <td>407.0</td>\n      <td>20.0</td>\n      <td>87100.0</td>\n      <td>4596186.0</td>\n      <td>4.049738e+09</td>\n      <td>QN22</td>\n      <td>2020</td>\n      <td>133-42,39 AVENUE,11354</td>\n    </tr>\n    <tr>\n      <th>22</th>\n      <td>50033575</td>\n      <td>JACQUES TORRES ICE CREAM</td>\n      <td>Manhattan</td>\n      <td>89</td>\n      <td>EAST   42 STREET</td>\n      <td>10017</td>\n      <td>2129837353</td>\n      <td>Ice Cream, Gelato, Yogurt, Ices</td>\n      <td>3/9/2020</td>\n      <td>Violations were cited in the following area(s).</td>\n      <td>...</td>\n      <td>40.752094</td>\n      <td>-73.977604</td>\n      <td>105.0</td>\n      <td>4.0</td>\n      <td>9200.0</td>\n      <td>1035381.0</td>\n      <td>1.012800e+09</td>\n      <td>MN19</td>\n      <td>2020</td>\n      <td>89,EAST   42 STREET,10017</td>\n    </tr>\n    <tr>\n      <th>23</th>\n      <td>50089342</td>\n      <td>REGAL CINEMAS ESSEX CROSSING</td>\n      <td>Manhattan</td>\n      <td>129</td>\n      <td>DELANCEY STREET</td>\n      <td>10002</td>\n      <td>2124755768</td>\n      <td>American</td>\n      <td>3/13/2020</td>\n      <td>Violations were cited in the following area(s).</td>\n      <td>...</td>\n      <td>40.718327</td>\n      <td>-73.987518</td>\n      <td>103.0</td>\n      <td>1.0</td>\n      <td>1800.0</td>\n      <td>1090554.0</td>\n      <td>1.003528e+09</td>\n      <td>MN27</td>\n      <td>2020</td>\n      <td>129,DELANCEY STREET,10002</td>\n    </tr>\n    <tr>\n      <th>35</th>\n      <td>50033875</td>\n      <td>ARIANA'S</td>\n      <td>Staten Island</td>\n      <td>60</td>\n      <td>SOUTH BRIDGE STREET</td>\n      <td>10309</td>\n      <td>7189678500</td>\n      <td>Italian</td>\n      <td>1/23/2020</td>\n      <td>Violations were cited in the following area(s).</td>\n      <td>...</td>\n      <td>40.525075</td>\n      <td>-74.236617</td>\n      <td>503.0</td>\n      <td>51.0</td>\n      <td>22600.0</td>\n      <td>5000000.0</td>\n      <td>5.075840e+09</td>\n      <td>SI11</td>\n      <td>2020</td>\n      <td>60,SOUTH BRIDGE STREET,10309</td>\n    </tr>\n    <tr>\n      <th>...</th>\n      <td>...</td>\n      <td>...</td>\n      <td>...</td>\n      <td>...</td>\n      <td>...</td>\n      <td>...</td>\n      <td>...</td>\n      <td>...</td>\n      <td>...</td>\n      <td>...</td>\n      <td>...</td>\n      <td>...</td>\n      <td>...</td>\n      <td>...</td>\n      <td>...</td>\n      <td>...</td>\n      <td>...</td>\n      <td>...</td>\n      <td>...</td>\n      <td>...</td>\n      <td>...</td>\n    </tr>\n    <tr>\n      <th>381592</th>\n      <td>50086667</td>\n      <td>JJ'S ASIAN FUSION</td>\n      <td>Queens</td>\n      <td>37-05</td>\n      <td>31 AVENUE</td>\n      <td>11103</td>\n      <td>7186268888</td>\n      <td>Japanese</td>\n      <td>2/12/2020</td>\n      <td>Violations were cited in the following area(s).</td>\n      <td>...</td>\n      <td>40.762006</td>\n      <td>-73.918537</td>\n      <td>401.0</td>\n      <td>22.0</td>\n      <td>6300.0</td>\n      <td>4010552.0</td>\n      <td>4.006590e+09</td>\n      <td>QN70</td>\n      <td>2020</td>\n      <td>37-05,31 AVENUE,11103</td>\n    </tr>\n    <tr>\n      <th>381603</th>\n      <td>41691396</td>\n      <td>SAM'S</td>\n      <td>Queens</td>\n      <td>89-06</td>\n      <td>NORTHERN BOULEVARD</td>\n      <td>11372</td>\n      <td>7183353800</td>\n      <td>Pizza</td>\n      <td>1/28/2020</td>\n      <td>Violations were cited in the following area(s).</td>\n      <td>...</td>\n      <td>40.756245</td>\n      <td>-73.878681</td>\n      <td>403.0</td>\n      <td>25.0</td>\n      <td>27700.0</td>\n      <td>4035403.0</td>\n      <td>4.014370e+09</td>\n      <td>QN28</td>\n      <td>2020</td>\n      <td>89-06,NORTHERN BOULEVARD,11372</td>\n    </tr>\n    <tr>\n      <th>381618</th>\n      <td>50102250</td>\n      <td>XOXO KITCHEN &amp; BAKERY</td>\n      <td>Queens</td>\n      <td>883</td>\n      <td>CYPRESS AVENUE</td>\n      <td>11385</td>\n      <td>5189307739</td>\n      <td>American</td>\n      <td>2/25/2020</td>\n      <td>No violations were recorded at the time of thi...</td>\n      <td>...</td>\n      <td>40.699365</td>\n      <td>-73.904924</td>\n      <td>405.0</td>\n      <td>34.0</td>\n      <td>55300.0</td>\n      <td>4085863.0</td>\n      <td>4.035600e+09</td>\n      <td>QN20</td>\n      <td>2020</td>\n      <td>883,CYPRESS AVENUE,11385</td>\n    </tr>\n    <tr>\n      <th>381622</th>\n      <td>41683337</td>\n      <td>AVLEE GREEK KITCHEN</td>\n      <td>Brooklyn</td>\n      <td>349</td>\n      <td>SMITH STREET</td>\n      <td>11231</td>\n      <td>7188555125</td>\n      <td>Greek</td>\n      <td>2/20/2020</td>\n      <td>Violations were cited in the following area(s).</td>\n      <td>...</td>\n      <td>40.680002</td>\n      <td>-73.995007</td>\n      <td>306.0</td>\n      <td>39.0</td>\n      <td>7700.0</td>\n      <td>3007558.0</td>\n      <td>3.004500e+09</td>\n      <td>BK33</td>\n      <td>2020</td>\n      <td>349,SMITH STREET,11231</td>\n    </tr>\n    <tr>\n      <th>381640</th>\n      <td>50016747</td>\n      <td>SARKU JAPAN</td>\n      <td>Bronx</td>\n      <td>815</td>\n      <td>HUTCHINSON RIVER PARKWAY</td>\n      <td>10465</td>\n      <td>7182391460</td>\n      <td>Japanese</td>\n      <td>3/16/2020</td>\n      <td>Violations were cited in the following area(s).</td>\n      <td>...</td>\n      <td>40.823678</td>\n      <td>-73.836420</td>\n      <td>210.0</td>\n      <td>13.0</td>\n      <td>9000.0</td>\n      <td>2080263.0</td>\n      <td>2.055598e+09</td>\n      <td>BX09</td>\n      <td>2020</td>\n      <td>815,HUTCHINSON RIVER PARKWAY,10465</td>\n    </tr>\n  </tbody>\n</table>\n<p>30643 rows × 29 columns</p>\n</div>"
     },
     "metadata": {},
     "execution_count": 9
    }
   ],
   "source": [
    "df_cleaned20 = df_cleaned.loc[(df_cleaned['YEAR'] >='2020')]\n",
    "df_cleaned20"
   ]
  },
  {
   "cell_type": "code",
   "execution_count": 10,
   "metadata": {},
   "outputs": [
    {
     "output_type": "execute_result",
     "data": {
      "text/plain": [
       "CAMIS                      8706\n",
       "DBA                        7687\n",
       "BORO                          5\n",
       "BUILDING                   4053\n",
       "STREET                     1429\n",
       "ZIPCODE                     199\n",
       "PHONE                      8549\n",
       "CUISINE DESCRIPTION          82\n",
       "INSPECTION DATE              70\n",
       "ACTION                        5\n",
       "VIOLATION CODE               59\n",
       "VIOLATION DESCRIPTION        59\n",
       "CRITICAL FLAG                 2\n",
       "SCORE                       100\n",
       "GRADE                         6\n",
       "GRADE DATE                   65\n",
       "RECORD DATE                   1\n",
       "INSPECTION TYPE              14\n",
       "INSPECTION TYPE GENERAL       5\n",
       "Latitude                   8037\n",
       "Longitude                  8048\n",
       "Community Board              64\n",
       "Council District             51\n",
       "Census Tract               1024\n",
       "BIN                        7580\n",
       "BBL                        7535\n",
       "NTA                         193\n",
       "YEAR                          1\n",
       "ADDRESS                    8227\n",
       "dtype: int64"
      ]
     },
     "metadata": {},
     "execution_count": 10
    }
   ],
   "source": [
    "df_cleaned20.nunique()"
   ]
  },
  {
   "cell_type": "code",
   "execution_count": 11,
   "metadata": {},
   "outputs": [],
   "source": [
    "df_cleaned20.to_csv(\"DOHMH_New_York_City_Restaurant_Inspection_Results_Clean20.csv\", index=False, header=True)"
   ]
  },
  {
   "cell_type": "code",
   "execution_count": null,
   "metadata": {},
   "outputs": [],
   "source": []
  },
  {
   "cell_type": "code",
   "execution_count": 18,
   "metadata": {},
   "outputs": [
    {
     "output_type": "execute_result",
     "data": {
      "text/plain": [
       "           CAMIS                                 DBA           BORO  \\\n",
       "0       41651801                         THE LIBERTY      Manhattan   \n",
       "1       50074624                             CAFE 47      Manhattan   \n",
       "2       50082531               KENNEDY FRIED CHICKEN          Bronx   \n",
       "3       50071207                   VIOLETTE'S CELLAR  Staten Island   \n",
       "5       40394176                     MOONSTRUCK EAST      Manhattan   \n",
       "...          ...                                 ...            ...   \n",
       "288706  50032652    LAS DELICIAS RESTAURANT & BAKERY         Queens   \n",
       "288707  41322562  MARGARITA'S RESTAURANT & SPORT BAR         Queens   \n",
       "288708  50083067                          GOLDEN WOK         Queens   \n",
       "288709  50002890               NEW FONG KWAN KITCHEN         Queens   \n",
       "288710  50070281                           Aji Sushi      Manhattan   \n",
       "\n",
       "             PHONE                                CUISINE DESCRIPTION  \\\n",
       "0       2129674000                                              Irish   \n",
       "1       6467408369                                           American   \n",
       "2       6469059373                                            Chicken   \n",
       "3       7186505050                                           American   \n",
       "5       2122131100                                           American   \n",
       "...            ...                                                ...   \n",
       "288706  7184604911                                            Spanish   \n",
       "288707  7182051705  Latin (Cuban, Dominican, Puerto Rican, South &...   \n",
       "288708  7183922333                                            Chinese   \n",
       "288709  7184974461                                            Chinese   \n",
       "288710  2126862055                                           Japanese   \n",
       "\n",
       "                                                   ACTION VIOLATION CODE  \\\n",
       "0         Violations were cited in the following area(s).            02G   \n",
       "1         Violations were cited in the following area(s).            04L   \n",
       "2         Violations were cited in the following area(s).            10D   \n",
       "3         Violations were cited in the following area(s).            04N   \n",
       "5         Violations were cited in the following area(s).            06A   \n",
       "...                                                   ...            ...   \n",
       "288706                   Establishment re-opened by DOHMH            NaN   \n",
       "288707    Violations were cited in the following area(s).            04H   \n",
       "288708  Establishment Closed by DOHMH.  Violations wer...            10F   \n",
       "288709    Violations were cited in the following area(s).            02B   \n",
       "288710    Violations were cited in the following area(s).            04L   \n",
       "\n",
       "                                    VIOLATION DESCRIPTION CRITICAL FLAG  \\\n",
       "0       Cold food item held above 41º F (smoked fish a...             Y   \n",
       "1       Evidence of mice or live mice present in facil...             Y   \n",
       "2       Mechanical or natural ventilation system not p...             N   \n",
       "3       Filth flies or food/refuse/sewage-associated (...             Y   \n",
       "5       Personal cleanliness inadequate. Outer garment...             Y   \n",
       "...                                                   ...           ...   \n",
       "288706                                                NaN           NaN   \n",
       "288707  Raw, cooked or prepared food is adulterated, c...             Y   \n",
       "288708  Non-food contact surface improperly constructe...             N   \n",
       "288709         Hot food item not held at or above 140º F.             Y   \n",
       "288710  Evidence of mice or live mice present in facil...             Y   \n",
       "\n",
       "        SCORE GRADE                           INSPECTION TYPE  \\\n",
       "0          12     A          Cycle Inspection / Re-inspection   \n",
       "1          12     A     Cycle Inspection / Initial Inspection   \n",
       "2          11     A  Pre-permit (Operational) / Re-inspection   \n",
       "3          38   NaN     Cycle Inspection / Initial Inspection   \n",
       "5          43   NaN     Cycle Inspection / Initial Inspection   \n",
       "...       ...   ...                                       ...   \n",
       "288706      0     C   Cycle Inspection / Reopening Inspection   \n",
       "288707     27   NaN     Cycle Inspection / Initial Inspection   \n",
       "288708     46   NaN     Cycle Inspection / Initial Inspection   \n",
       "288709     20   NaN     Cycle Inspection / Initial Inspection   \n",
       "288710     10   NaN     Cycle Inspection / Initial Inspection   \n",
       "\n",
       "       INSPECTION TYPE GENERAL   Latitude  Longitude  Year  \\\n",
       "0                Re-inspection  40.749603 -73.985267  2019   \n",
       "1           Initial Inspection  40.772987 -73.980081  2019   \n",
       "2                Re-inspection  40.838249 -73.926329  2018   \n",
       "3           Initial Inspection  40.575370 -74.104831  2018   \n",
       "5           Initial Inspection  40.743720 -73.979567  2019   \n",
       "...                        ...        ...        ...   ...   \n",
       "288706    Reopening Inspection  40.782984 -73.845855  2018   \n",
       "288707      Initial Inspection  40.749860 -73.883092  2019   \n",
       "288708      Initial Inspection  40.745284 -73.921802  2019   \n",
       "288709      Initial Inspection  40.712446 -73.894524  2019   \n",
       "288710      Initial Inspection  40.746165 -73.977783  2019   \n",
       "\n",
       "                                Address  \n",
       "0             29,WEST   35 STREET,10001  \n",
       "1             47,WEST   66 STREET,10023  \n",
       "2               1220,OGDEN AVENUE,10452  \n",
       "3            2271,HYLAN BOULEVARD,10306  \n",
       "5                449,THIRD AVENUE,10016  \n",
       "...                                 ...  \n",
       "288706    1801,COLLEGE POINT BLVD,11356  \n",
       "288707            83-22,37 AVENUE,11372  \n",
       "288708            42-18,43 AVENUE,11104  \n",
       "288709  65-48,METROPOLITAN AVENUE,11379  \n",
       "288710               519,3 AVENUE,10016  \n",
       "\n",
       "[257981 rows x 17 columns]"
      ],
      "text/html": "<div>\n<style scoped>\n    .dataframe tbody tr th:only-of-type {\n        vertical-align: middle;\n    }\n\n    .dataframe tbody tr th {\n        vertical-align: top;\n    }\n\n    .dataframe thead th {\n        text-align: right;\n    }\n</style>\n<table border=\"1\" class=\"dataframe\">\n  <thead>\n    <tr style=\"text-align: right;\">\n      <th></th>\n      <th>CAMIS</th>\n      <th>DBA</th>\n      <th>BORO</th>\n      <th>PHONE</th>\n      <th>CUISINE DESCRIPTION</th>\n      <th>ACTION</th>\n      <th>VIOLATION CODE</th>\n      <th>VIOLATION DESCRIPTION</th>\n      <th>CRITICAL FLAG</th>\n      <th>SCORE</th>\n      <th>GRADE</th>\n      <th>INSPECTION TYPE</th>\n      <th>INSPECTION TYPE GENERAL</th>\n      <th>Latitude</th>\n      <th>Longitude</th>\n      <th>Year</th>\n      <th>Address</th>\n    </tr>\n  </thead>\n  <tbody>\n    <tr>\n      <th>0</th>\n      <td>41651801</td>\n      <td>THE LIBERTY</td>\n      <td>Manhattan</td>\n      <td>2129674000</td>\n      <td>Irish</td>\n      <td>Violations were cited in the following area(s).</td>\n      <td>02G</td>\n      <td>Cold food item held above 41º F (smoked fish a...</td>\n      <td>Y</td>\n      <td>12</td>\n      <td>A</td>\n      <td>Cycle Inspection / Re-inspection</td>\n      <td>Re-inspection</td>\n      <td>40.749603</td>\n      <td>-73.985267</td>\n      <td>2019</td>\n      <td>29,WEST   35 STREET,10001</td>\n    </tr>\n    <tr>\n      <th>1</th>\n      <td>50074624</td>\n      <td>CAFE 47</td>\n      <td>Manhattan</td>\n      <td>6467408369</td>\n      <td>American</td>\n      <td>Violations were cited in the following area(s).</td>\n      <td>04L</td>\n      <td>Evidence of mice or live mice present in facil...</td>\n      <td>Y</td>\n      <td>12</td>\n      <td>A</td>\n      <td>Cycle Inspection / Initial Inspection</td>\n      <td>Initial Inspection</td>\n      <td>40.772987</td>\n      <td>-73.980081</td>\n      <td>2019</td>\n      <td>47,WEST   66 STREET,10023</td>\n    </tr>\n    <tr>\n      <th>2</th>\n      <td>50082531</td>\n      <td>KENNEDY FRIED CHICKEN</td>\n      <td>Bronx</td>\n      <td>6469059373</td>\n      <td>Chicken</td>\n      <td>Violations were cited in the following area(s).</td>\n      <td>10D</td>\n      <td>Mechanical or natural ventilation system not p...</td>\n      <td>N</td>\n      <td>11</td>\n      <td>A</td>\n      <td>Pre-permit (Operational) / Re-inspection</td>\n      <td>Re-inspection</td>\n      <td>40.838249</td>\n      <td>-73.926329</td>\n      <td>2018</td>\n      <td>1220,OGDEN AVENUE,10452</td>\n    </tr>\n    <tr>\n      <th>3</th>\n      <td>50071207</td>\n      <td>VIOLETTE'S CELLAR</td>\n      <td>Staten Island</td>\n      <td>7186505050</td>\n      <td>American</td>\n      <td>Violations were cited in the following area(s).</td>\n      <td>04N</td>\n      <td>Filth flies or food/refuse/sewage-associated (...</td>\n      <td>Y</td>\n      <td>38</td>\n      <td>NaN</td>\n      <td>Cycle Inspection / Initial Inspection</td>\n      <td>Initial Inspection</td>\n      <td>40.575370</td>\n      <td>-74.104831</td>\n      <td>2018</td>\n      <td>2271,HYLAN BOULEVARD,10306</td>\n    </tr>\n    <tr>\n      <th>5</th>\n      <td>40394176</td>\n      <td>MOONSTRUCK EAST</td>\n      <td>Manhattan</td>\n      <td>2122131100</td>\n      <td>American</td>\n      <td>Violations were cited in the following area(s).</td>\n      <td>06A</td>\n      <td>Personal cleanliness inadequate. Outer garment...</td>\n      <td>Y</td>\n      <td>43</td>\n      <td>NaN</td>\n      <td>Cycle Inspection / Initial Inspection</td>\n      <td>Initial Inspection</td>\n      <td>40.743720</td>\n      <td>-73.979567</td>\n      <td>2019</td>\n      <td>449,THIRD AVENUE,10016</td>\n    </tr>\n    <tr>\n      <th>...</th>\n      <td>...</td>\n      <td>...</td>\n      <td>...</td>\n      <td>...</td>\n      <td>...</td>\n      <td>...</td>\n      <td>...</td>\n      <td>...</td>\n      <td>...</td>\n      <td>...</td>\n      <td>...</td>\n      <td>...</td>\n      <td>...</td>\n      <td>...</td>\n      <td>...</td>\n      <td>...</td>\n      <td>...</td>\n    </tr>\n    <tr>\n      <th>288706</th>\n      <td>50032652</td>\n      <td>LAS DELICIAS RESTAURANT &amp; BAKERY</td>\n      <td>Queens</td>\n      <td>7184604911</td>\n      <td>Spanish</td>\n      <td>Establishment re-opened by DOHMH</td>\n      <td>NaN</td>\n      <td>NaN</td>\n      <td>NaN</td>\n      <td>0</td>\n      <td>C</td>\n      <td>Cycle Inspection / Reopening Inspection</td>\n      <td>Reopening Inspection</td>\n      <td>40.782984</td>\n      <td>-73.845855</td>\n      <td>2018</td>\n      <td>1801,COLLEGE POINT BLVD,11356</td>\n    </tr>\n    <tr>\n      <th>288707</th>\n      <td>41322562</td>\n      <td>MARGARITA'S RESTAURANT &amp; SPORT BAR</td>\n      <td>Queens</td>\n      <td>7182051705</td>\n      <td>Latin (Cuban, Dominican, Puerto Rican, South &amp;...</td>\n      <td>Violations were cited in the following area(s).</td>\n      <td>04H</td>\n      <td>Raw, cooked or prepared food is adulterated, c...</td>\n      <td>Y</td>\n      <td>27</td>\n      <td>NaN</td>\n      <td>Cycle Inspection / Initial Inspection</td>\n      <td>Initial Inspection</td>\n      <td>40.749860</td>\n      <td>-73.883092</td>\n      <td>2019</td>\n      <td>83-22,37 AVENUE,11372</td>\n    </tr>\n    <tr>\n      <th>288708</th>\n      <td>50083067</td>\n      <td>GOLDEN WOK</td>\n      <td>Queens</td>\n      <td>7183922333</td>\n      <td>Chinese</td>\n      <td>Establishment Closed by DOHMH.  Violations wer...</td>\n      <td>10F</td>\n      <td>Non-food contact surface improperly constructe...</td>\n      <td>N</td>\n      <td>46</td>\n      <td>NaN</td>\n      <td>Cycle Inspection / Initial Inspection</td>\n      <td>Initial Inspection</td>\n      <td>40.745284</td>\n      <td>-73.921802</td>\n      <td>2019</td>\n      <td>42-18,43 AVENUE,11104</td>\n    </tr>\n    <tr>\n      <th>288709</th>\n      <td>50002890</td>\n      <td>NEW FONG KWAN KITCHEN</td>\n      <td>Queens</td>\n      <td>7184974461</td>\n      <td>Chinese</td>\n      <td>Violations were cited in the following area(s).</td>\n      <td>02B</td>\n      <td>Hot food item not held at or above 140º F.</td>\n      <td>Y</td>\n      <td>20</td>\n      <td>NaN</td>\n      <td>Cycle Inspection / Initial Inspection</td>\n      <td>Initial Inspection</td>\n      <td>40.712446</td>\n      <td>-73.894524</td>\n      <td>2019</td>\n      <td>65-48,METROPOLITAN AVENUE,11379</td>\n    </tr>\n    <tr>\n      <th>288710</th>\n      <td>50070281</td>\n      <td>Aji Sushi</td>\n      <td>Manhattan</td>\n      <td>2126862055</td>\n      <td>Japanese</td>\n      <td>Violations were cited in the following area(s).</td>\n      <td>04L</td>\n      <td>Evidence of mice or live mice present in facil...</td>\n      <td>Y</td>\n      <td>10</td>\n      <td>NaN</td>\n      <td>Cycle Inspection / Initial Inspection</td>\n      <td>Initial Inspection</td>\n      <td>40.746165</td>\n      <td>-73.977783</td>\n      <td>2019</td>\n      <td>519,3 AVENUE,10016</td>\n    </tr>\n  </tbody>\n</table>\n<p>257981 rows × 17 columns</p>\n</div>"
     },
     "metadata": {},
     "execution_count": 18
    }
   ],
   "source": [
    "df_cleaned1819 = df_cleaned.loc[(df_cleaned['Year'] >='2018') & (df_cleaned['Year'] <='2019')]\n",
    "df_cleaned1819"
   ]
  },
  {
   "cell_type": "code",
   "execution_count": 27,
   "metadata": {},
   "outputs": [
    {
     "output_type": "execute_result",
     "data": {
      "text/plain": [
       "CAMIS                      24839\n",
       "DBA                        19976\n",
       "BORO                           6\n",
       "PHONE                      23578\n",
       "CUISINE DESCRIPTION           84\n",
       "ACTION                         5\n",
       "VIOLATION CODE                71\n",
       "VIOLATION DESCRIPTION         66\n",
       "CRITICAL FLAG                  2\n",
       "SCORE                        130\n",
       "GRADE                          7\n",
       "INSPECTION TYPE               16\n",
       "INSPECTION TYPE GENERAL        5\n",
       "Latitude                   21018\n",
       "Longitude                  21039\n",
       "Year                           2\n",
       "Address                    21879\n",
       "dtype: int64"
      ]
     },
     "metadata": {},
     "execution_count": 27
    }
   ],
   "source": [
    "df_cleaned1819.nunique()"
   ]
  },
  {
   "cell_type": "code",
   "execution_count": 19,
   "metadata": {},
   "outputs": [],
   "source": [
    "df_cleaned1819.to_csv(\"DOHMH_New_York_City_Restaurant_Inspection_Results_Clean1819.csv\", index=False, header=True)"
   ]
  },
  {
   "cell_type": "code",
   "execution_count": 22,
   "metadata": {},
   "outputs": [
    {
     "output_type": "execute_result",
     "data": {
      "text/plain": [
       "           CAMIS                                 DBA       BORO       PHONE  \\\n",
       "0       41651801                         THE LIBERTY  Manhattan  2129674000   \n",
       "1       50074624                             CAFE 47  Manhattan  6467408369   \n",
       "5       40394176                     MOONSTRUCK EAST  Manhattan  2122131100   \n",
       "6       50090753                  LYDIG COFFEE HOUSE      Bronx  3477036610   \n",
       "7       50076009                     CHARLIE'S PLACE  Manhattan  2124100277   \n",
       "...          ...                                 ...        ...         ...   \n",
       "288705  50000040                    D & Y RESTAURANT   Brooklyn  7184928808   \n",
       "288707  41322562  MARGARITA'S RESTAURANT & SPORT BAR     Queens  7182051705   \n",
       "288708  50083067                          GOLDEN WOK     Queens  7183922333   \n",
       "288709  50002890               NEW FONG KWAN KITCHEN     Queens  7184974461   \n",
       "288710  50070281                           Aji Sushi  Manhattan  2126862055   \n",
       "\n",
       "                                      CUISINE DESCRIPTION  \\\n",
       "0                                                   Irish   \n",
       "1                                                American   \n",
       "5                                                American   \n",
       "6                                                American   \n",
       "7                                                Japanese   \n",
       "...                                                   ...   \n",
       "288705                                            Chinese   \n",
       "288707  Latin (Cuban, Dominican, Puerto Rican, South &...   \n",
       "288708                                            Chinese   \n",
       "288709                                            Chinese   \n",
       "288710                                           Japanese   \n",
       "\n",
       "                                                   ACTION VIOLATION CODE  \\\n",
       "0         Violations were cited in the following area(s).            02G   \n",
       "1         Violations were cited in the following area(s).            04L   \n",
       "5         Violations were cited in the following area(s).            06A   \n",
       "6         Violations were cited in the following area(s).            02B   \n",
       "7         Violations were cited in the following area(s).            10F   \n",
       "...                                                   ...            ...   \n",
       "288705    Violations were cited in the following area(s).            06C   \n",
       "288707    Violations were cited in the following area(s).            04H   \n",
       "288708  Establishment Closed by DOHMH.  Violations wer...            10F   \n",
       "288709    Violations were cited in the following area(s).            02B   \n",
       "288710    Violations were cited in the following area(s).            04L   \n",
       "\n",
       "                                    VIOLATION DESCRIPTION CRITICAL FLAG  \\\n",
       "0       Cold food item held above 41º F (smoked fish a...             Y   \n",
       "1       Evidence of mice or live mice present in facil...             Y   \n",
       "5       Personal cleanliness inadequate. Outer garment...             Y   \n",
       "6              Hot food item not held at or above 140º F.             Y   \n",
       "7       Non-food contact surface improperly constructe...             N   \n",
       "...                                                   ...           ...   \n",
       "288705  Food not protected from potential source of co...             Y   \n",
       "288707  Raw, cooked or prepared food is adulterated, c...             Y   \n",
       "288708  Non-food contact surface improperly constructe...             N   \n",
       "288709         Hot food item not held at or above 140º F.             Y   \n",
       "288710  Evidence of mice or live mice present in facil...             Y   \n",
       "\n",
       "        SCORE GRADE                                INSPECTION TYPE  \\\n",
       "0          12     A               Cycle Inspection / Re-inspection   \n",
       "1          12     A          Cycle Inspection / Initial Inspection   \n",
       "5          43   NaN          Cycle Inspection / Initial Inspection   \n",
       "6          28   NaN  Pre-permit (Operational) / Initial Inspection   \n",
       "7          10     A          Cycle Inspection / Initial Inspection   \n",
       "...       ...   ...                                            ...   \n",
       "288705     12   NaN          Cycle Inspection / Initial Inspection   \n",
       "288707     27   NaN          Cycle Inspection / Initial Inspection   \n",
       "288708     46   NaN          Cycle Inspection / Initial Inspection   \n",
       "288709     20   NaN          Cycle Inspection / Initial Inspection   \n",
       "288710     10   NaN          Cycle Inspection / Initial Inspection   \n",
       "\n",
       "       INSPECTION TYPE GENERAL   Latitude  Longitude  Year  \\\n",
       "0                Re-inspection  40.749603 -73.985267  2019   \n",
       "1           Initial Inspection  40.772987 -73.980081  2019   \n",
       "5           Initial Inspection  40.743720 -73.979567  2019   \n",
       "6           Initial Inspection  40.854477 -73.866550  2019   \n",
       "7           Initial Inspection  40.806103 -73.940384  2019   \n",
       "...                        ...        ...        ...   ...   \n",
       "288705      Initial Inspection  40.638934 -74.009570  2019   \n",
       "288707      Initial Inspection  40.749860 -73.883092  2019   \n",
       "288708      Initial Inspection  40.745284 -73.921802  2019   \n",
       "288709      Initial Inspection  40.712446 -73.894524  2019   \n",
       "288710      Initial Inspection  40.746165 -73.977783  2019   \n",
       "\n",
       "                                Address  \n",
       "0             29,WEST   35 STREET,10001  \n",
       "1             47,WEST   66 STREET,10023  \n",
       "5                449,THIRD AVENUE,10016  \n",
       "6                721,LYDIG AVENUE,10462  \n",
       "7             1960,MADISON AVENUE,10035  \n",
       "...                                 ...  \n",
       "288705              5616,7 AVENUE,11220  \n",
       "288707            83-22,37 AVENUE,11372  \n",
       "288708            42-18,43 AVENUE,11104  \n",
       "288709  65-48,METROPOLITAN AVENUE,11379  \n",
       "288710               519,3 AVENUE,10016  \n",
       "\n",
       "[142546 rows x 17 columns]"
      ],
      "text/html": "<div>\n<style scoped>\n    .dataframe tbody tr th:only-of-type {\n        vertical-align: middle;\n    }\n\n    .dataframe tbody tr th {\n        vertical-align: top;\n    }\n\n    .dataframe thead th {\n        text-align: right;\n    }\n</style>\n<table border=\"1\" class=\"dataframe\">\n  <thead>\n    <tr style=\"text-align: right;\">\n      <th></th>\n      <th>CAMIS</th>\n      <th>DBA</th>\n      <th>BORO</th>\n      <th>PHONE</th>\n      <th>CUISINE DESCRIPTION</th>\n      <th>ACTION</th>\n      <th>VIOLATION CODE</th>\n      <th>VIOLATION DESCRIPTION</th>\n      <th>CRITICAL FLAG</th>\n      <th>SCORE</th>\n      <th>GRADE</th>\n      <th>INSPECTION TYPE</th>\n      <th>INSPECTION TYPE GENERAL</th>\n      <th>Latitude</th>\n      <th>Longitude</th>\n      <th>Year</th>\n      <th>Address</th>\n    </tr>\n  </thead>\n  <tbody>\n    <tr>\n      <th>0</th>\n      <td>41651801</td>\n      <td>THE LIBERTY</td>\n      <td>Manhattan</td>\n      <td>2129674000</td>\n      <td>Irish</td>\n      <td>Violations were cited in the following area(s).</td>\n      <td>02G</td>\n      <td>Cold food item held above 41º F (smoked fish a...</td>\n      <td>Y</td>\n      <td>12</td>\n      <td>A</td>\n      <td>Cycle Inspection / Re-inspection</td>\n      <td>Re-inspection</td>\n      <td>40.749603</td>\n      <td>-73.985267</td>\n      <td>2019</td>\n      <td>29,WEST   35 STREET,10001</td>\n    </tr>\n    <tr>\n      <th>1</th>\n      <td>50074624</td>\n      <td>CAFE 47</td>\n      <td>Manhattan</td>\n      <td>6467408369</td>\n      <td>American</td>\n      <td>Violations were cited in the following area(s).</td>\n      <td>04L</td>\n      <td>Evidence of mice or live mice present in facil...</td>\n      <td>Y</td>\n      <td>12</td>\n      <td>A</td>\n      <td>Cycle Inspection / Initial Inspection</td>\n      <td>Initial Inspection</td>\n      <td>40.772987</td>\n      <td>-73.980081</td>\n      <td>2019</td>\n      <td>47,WEST   66 STREET,10023</td>\n    </tr>\n    <tr>\n      <th>5</th>\n      <td>40394176</td>\n      <td>MOONSTRUCK EAST</td>\n      <td>Manhattan</td>\n      <td>2122131100</td>\n      <td>American</td>\n      <td>Violations were cited in the following area(s).</td>\n      <td>06A</td>\n      <td>Personal cleanliness inadequate. Outer garment...</td>\n      <td>Y</td>\n      <td>43</td>\n      <td>NaN</td>\n      <td>Cycle Inspection / Initial Inspection</td>\n      <td>Initial Inspection</td>\n      <td>40.743720</td>\n      <td>-73.979567</td>\n      <td>2019</td>\n      <td>449,THIRD AVENUE,10016</td>\n    </tr>\n    <tr>\n      <th>6</th>\n      <td>50090753</td>\n      <td>LYDIG COFFEE HOUSE</td>\n      <td>Bronx</td>\n      <td>3477036610</td>\n      <td>American</td>\n      <td>Violations were cited in the following area(s).</td>\n      <td>02B</td>\n      <td>Hot food item not held at or above 140º F.</td>\n      <td>Y</td>\n      <td>28</td>\n      <td>NaN</td>\n      <td>Pre-permit (Operational) / Initial Inspection</td>\n      <td>Initial Inspection</td>\n      <td>40.854477</td>\n      <td>-73.866550</td>\n      <td>2019</td>\n      <td>721,LYDIG AVENUE,10462</td>\n    </tr>\n    <tr>\n      <th>7</th>\n      <td>50076009</td>\n      <td>CHARLIE'S PLACE</td>\n      <td>Manhattan</td>\n      <td>2124100277</td>\n      <td>Japanese</td>\n      <td>Violations were cited in the following area(s).</td>\n      <td>10F</td>\n      <td>Non-food contact surface improperly constructe...</td>\n      <td>N</td>\n      <td>10</td>\n      <td>A</td>\n      <td>Cycle Inspection / Initial Inspection</td>\n      <td>Initial Inspection</td>\n      <td>40.806103</td>\n      <td>-73.940384</td>\n      <td>2019</td>\n      <td>1960,MADISON AVENUE,10035</td>\n    </tr>\n    <tr>\n      <th>...</th>\n      <td>...</td>\n      <td>...</td>\n      <td>...</td>\n      <td>...</td>\n      <td>...</td>\n      <td>...</td>\n      <td>...</td>\n      <td>...</td>\n      <td>...</td>\n      <td>...</td>\n      <td>...</td>\n      <td>...</td>\n      <td>...</td>\n      <td>...</td>\n      <td>...</td>\n      <td>...</td>\n      <td>...</td>\n    </tr>\n    <tr>\n      <th>288705</th>\n      <td>50000040</td>\n      <td>D &amp; Y RESTAURANT</td>\n      <td>Brooklyn</td>\n      <td>7184928808</td>\n      <td>Chinese</td>\n      <td>Violations were cited in the following area(s).</td>\n      <td>06C</td>\n      <td>Food not protected from potential source of co...</td>\n      <td>Y</td>\n      <td>12</td>\n      <td>NaN</td>\n      <td>Cycle Inspection / Initial Inspection</td>\n      <td>Initial Inspection</td>\n      <td>40.638934</td>\n      <td>-74.009570</td>\n      <td>2019</td>\n      <td>5616,7 AVENUE,11220</td>\n    </tr>\n    <tr>\n      <th>288707</th>\n      <td>41322562</td>\n      <td>MARGARITA'S RESTAURANT &amp; SPORT BAR</td>\n      <td>Queens</td>\n      <td>7182051705</td>\n      <td>Latin (Cuban, Dominican, Puerto Rican, South &amp;...</td>\n      <td>Violations were cited in the following area(s).</td>\n      <td>04H</td>\n      <td>Raw, cooked or prepared food is adulterated, c...</td>\n      <td>Y</td>\n      <td>27</td>\n      <td>NaN</td>\n      <td>Cycle Inspection / Initial Inspection</td>\n      <td>Initial Inspection</td>\n      <td>40.749860</td>\n      <td>-73.883092</td>\n      <td>2019</td>\n      <td>83-22,37 AVENUE,11372</td>\n    </tr>\n    <tr>\n      <th>288708</th>\n      <td>50083067</td>\n      <td>GOLDEN WOK</td>\n      <td>Queens</td>\n      <td>7183922333</td>\n      <td>Chinese</td>\n      <td>Establishment Closed by DOHMH.  Violations wer...</td>\n      <td>10F</td>\n      <td>Non-food contact surface improperly constructe...</td>\n      <td>N</td>\n      <td>46</td>\n      <td>NaN</td>\n      <td>Cycle Inspection / Initial Inspection</td>\n      <td>Initial Inspection</td>\n      <td>40.745284</td>\n      <td>-73.921802</td>\n      <td>2019</td>\n      <td>42-18,43 AVENUE,11104</td>\n    </tr>\n    <tr>\n      <th>288709</th>\n      <td>50002890</td>\n      <td>NEW FONG KWAN KITCHEN</td>\n      <td>Queens</td>\n      <td>7184974461</td>\n      <td>Chinese</td>\n      <td>Violations were cited in the following area(s).</td>\n      <td>02B</td>\n      <td>Hot food item not held at or above 140º F.</td>\n      <td>Y</td>\n      <td>20</td>\n      <td>NaN</td>\n      <td>Cycle Inspection / Initial Inspection</td>\n      <td>Initial Inspection</td>\n      <td>40.712446</td>\n      <td>-73.894524</td>\n      <td>2019</td>\n      <td>65-48,METROPOLITAN AVENUE,11379</td>\n    </tr>\n    <tr>\n      <th>288710</th>\n      <td>50070281</td>\n      <td>Aji Sushi</td>\n      <td>Manhattan</td>\n      <td>2126862055</td>\n      <td>Japanese</td>\n      <td>Violations were cited in the following area(s).</td>\n      <td>04L</td>\n      <td>Evidence of mice or live mice present in facil...</td>\n      <td>Y</td>\n      <td>10</td>\n      <td>NaN</td>\n      <td>Cycle Inspection / Initial Inspection</td>\n      <td>Initial Inspection</td>\n      <td>40.746165</td>\n      <td>-73.977783</td>\n      <td>2019</td>\n      <td>519,3 AVENUE,10016</td>\n    </tr>\n  </tbody>\n</table>\n<p>142546 rows × 17 columns</p>\n</div>"
     },
     "metadata": {},
     "execution_count": 22
    }
   ],
   "source": [
    "df_cleaned19 = df_cleaned.loc[(df_cleaned['Year'] =='2019')]\n",
    "df_cleaned19"
   ]
  },
  {
   "cell_type": "code",
   "execution_count": 28,
   "metadata": {},
   "outputs": [
    {
     "output_type": "execute_result",
     "data": {
      "text/plain": [
       "CAMIS                      24155\n",
       "DBA                        19415\n",
       "BORO                           6\n",
       "PHONE                      22966\n",
       "CUISINE DESCRIPTION           84\n",
       "ACTION                         5\n",
       "VIOLATION CODE                66\n",
       "VIOLATION DESCRIPTION         63\n",
       "CRITICAL FLAG                  2\n",
       "SCORE                        126\n",
       "GRADE                          7\n",
       "INSPECTION TYPE               14\n",
       "INSPECTION TYPE GENERAL        5\n",
       "Latitude                   20503\n",
       "Longitude                  20522\n",
       "Year                           1\n",
       "Address                    21339\n",
       "dtype: int64"
      ]
     },
     "metadata": {},
     "execution_count": 28
    }
   ],
   "source": [
    "df_cleaned19.nunique()"
   ]
  },
  {
   "cell_type": "code",
   "execution_count": 23,
   "metadata": {},
   "outputs": [],
   "source": [
    "df_cleaned19.to_csv(\"DOHMH_New_York_City_Restaurant_Inspection_Results_Clean19.csv\", index=False, header=True)"
   ]
  },
  {
   "cell_type": "code",
   "execution_count": 11,
   "metadata": {},
   "outputs": [],
   "source": [
    "import sqlite3"
   ]
  },
  {
   "cell_type": "code",
   "execution_count": 20,
   "metadata": {},
   "outputs": [
    {
     "output_type": "error",
     "ename": "KeyboardInterrupt",
     "evalue": "",
     "traceback": [
      "\u001b[1;31m---------------------------------------------------------------------------\u001b[0m",
      "\u001b[1;31mKeyboardInterrupt\u001b[0m                         Traceback (most recent call last)",
      "\u001b[1;32m<ipython-input-20-998249ae4b5f>\u001b[0m in \u001b[0;36m<module>\u001b[1;34m\u001b[0m\n\u001b[0;32m      1\u001b[0m \u001b[0mbreakpoint\u001b[0m\u001b[1;33m(\u001b[0m\u001b[1;33m)\u001b[0m\u001b[1;33m\u001b[0m\u001b[1;33m\u001b[0m\u001b[0m\n\u001b[1;32m----> 2\u001b[1;33m \u001b[0mconn\u001b[0m \u001b[1;33m=\u001b[0m \u001b[0msqlite3\u001b[0m\u001b[1;33m.\u001b[0m\u001b[0mconnect\u001b[0m\u001b[1;33m(\u001b[0m\u001b[1;34m'NYC_restaurant_inspection.sqlite'\u001b[0m\u001b[1;33m)\u001b[0m\u001b[1;33m\u001b[0m\u001b[1;33m\u001b[0m\u001b[0m\n\u001b[0m\u001b[0;32m      3\u001b[0m \u001b[0mdf_cleaned\u001b[0m\u001b[1;33m.\u001b[0m\u001b[0mto_sql\u001b[0m\u001b[1;33m(\u001b[0m\u001b[1;34m'NYC_restaurant_inspection'\u001b[0m\u001b[1;33m,\u001b[0m \u001b[0mconn\u001b[0m\u001b[1;33m,\u001b[0m \u001b[0mif_exists\u001b[0m\u001b[1;33m=\u001b[0m\u001b[1;34m'replace'\u001b[0m\u001b[1;33m,\u001b[0m \u001b[0mindex\u001b[0m\u001b[1;33m=\u001b[0m\u001b[1;32mFalse\u001b[0m\u001b[1;33m)\u001b[0m\u001b[1;33m\u001b[0m\u001b[1;33m\u001b[0m\u001b[0m\n",
      "\u001b[1;32m<ipython-input-20-998249ae4b5f>\u001b[0m in \u001b[0;36m<module>\u001b[1;34m\u001b[0m\n\u001b[0;32m      1\u001b[0m \u001b[0mbreakpoint\u001b[0m\u001b[1;33m(\u001b[0m\u001b[1;33m)\u001b[0m\u001b[1;33m\u001b[0m\u001b[1;33m\u001b[0m\u001b[0m\n\u001b[1;32m----> 2\u001b[1;33m \u001b[0mconn\u001b[0m \u001b[1;33m=\u001b[0m \u001b[0msqlite3\u001b[0m\u001b[1;33m.\u001b[0m\u001b[0mconnect\u001b[0m\u001b[1;33m(\u001b[0m\u001b[1;34m'NYC_restaurant_inspection.sqlite'\u001b[0m\u001b[1;33m)\u001b[0m\u001b[1;33m\u001b[0m\u001b[1;33m\u001b[0m\u001b[0m\n\u001b[0m\u001b[0;32m      3\u001b[0m \u001b[0mdf_cleaned\u001b[0m\u001b[1;33m.\u001b[0m\u001b[0mto_sql\u001b[0m\u001b[1;33m(\u001b[0m\u001b[1;34m'NYC_restaurant_inspection'\u001b[0m\u001b[1;33m,\u001b[0m \u001b[0mconn\u001b[0m\u001b[1;33m,\u001b[0m \u001b[0mif_exists\u001b[0m\u001b[1;33m=\u001b[0m\u001b[1;34m'replace'\u001b[0m\u001b[1;33m,\u001b[0m \u001b[0mindex\u001b[0m\u001b[1;33m=\u001b[0m\u001b[1;32mFalse\u001b[0m\u001b[1;33m)\u001b[0m\u001b[1;33m\u001b[0m\u001b[1;33m\u001b[0m\u001b[0m\n",
      "\u001b[1;32m_pydevd_bundle/pydevd_cython.pyx\u001b[0m in \u001b[0;36m_pydevd_bundle.pydevd_cython.SafeCallWrapper.__call__\u001b[1;34m()\u001b[0m\n",
      "\u001b[1;32m_pydevd_bundle/pydevd_cython.pyx\u001b[0m in \u001b[0;36m_pydevd_bundle.pydevd_cython.PyDBFrame.trace_dispatch\u001b[1;34m()\u001b[0m\n",
      "\u001b[1;32m_pydevd_bundle/pydevd_cython.pyx\u001b[0m in \u001b[0;36m_pydevd_bundle.pydevd_cython.PyDBFrame.trace_dispatch\u001b[1;34m()\u001b[0m\n",
      "\u001b[1;32m_pydevd_bundle/pydevd_cython.pyx\u001b[0m in \u001b[0;36m_pydevd_bundle.pydevd_cython.PyDBFrame.trace_dispatch\u001b[1;34m()\u001b[0m\n",
      "\u001b[1;32m_pydevd_bundle/pydevd_cython.pyx\u001b[0m in \u001b[0;36m_pydevd_bundle.pydevd_cython.PyDBFrame.do_wait_suspend\u001b[1;34m()\u001b[0m\n",
      "\u001b[1;32mc:\\Users\\lynel\\.vscode\\extensions\\ms-python.python-2021.3.658691958\\pythonFiles\\lib\\python\\debugpy\\_vendored\\pydevd\\pydevd.py\u001b[0m in \u001b[0;36mdo_wait_suspend\u001b[1;34m(self, thread, frame, event, arg, exception_type)\u001b[0m\n\u001b[0;32m   1853\u001b[0m \u001b[1;33m\u001b[0m\u001b[0m\n\u001b[0;32m   1854\u001b[0m             \u001b[1;32mwith\u001b[0m \u001b[0mself\u001b[0m\u001b[1;33m.\u001b[0m\u001b[0m_threads_suspended_single_notification\u001b[0m\u001b[1;33m.\u001b[0m\u001b[0mnotify_thread_suspended\u001b[0m\u001b[1;33m(\u001b[0m\u001b[0mthread_id\u001b[0m\u001b[1;33m,\u001b[0m \u001b[0mstop_reason\u001b[0m\u001b[1;33m)\u001b[0m\u001b[1;33m:\u001b[0m\u001b[1;33m\u001b[0m\u001b[1;33m\u001b[0m\u001b[0m\n\u001b[1;32m-> 1855\u001b[1;33m                 \u001b[0mkeep_suspended\u001b[0m \u001b[1;33m=\u001b[0m \u001b[0mself\u001b[0m\u001b[1;33m.\u001b[0m\u001b[0m_do_wait_suspend\u001b[0m\u001b[1;33m(\u001b[0m\u001b[0mthread\u001b[0m\u001b[1;33m,\u001b[0m \u001b[0mframe\u001b[0m\u001b[1;33m,\u001b[0m \u001b[0mevent\u001b[0m\u001b[1;33m,\u001b[0m \u001b[0marg\u001b[0m\u001b[1;33m,\u001b[0m \u001b[0msuspend_type\u001b[0m\u001b[1;33m,\u001b[0m \u001b[0mfrom_this_thread\u001b[0m\u001b[1;33m,\u001b[0m \u001b[0mframes_tracker\u001b[0m\u001b[1;33m)\u001b[0m\u001b[1;33m\u001b[0m\u001b[1;33m\u001b[0m\u001b[0m\n\u001b[0m\u001b[0;32m   1856\u001b[0m \u001b[1;33m\u001b[0m\u001b[0m\n\u001b[0;32m   1857\u001b[0m         \u001b[0mframes_list\u001b[0m \u001b[1;33m=\u001b[0m \u001b[1;32mNone\u001b[0m\u001b[1;33m\u001b[0m\u001b[1;33m\u001b[0m\u001b[0m\n",
      "\u001b[1;32mc:\\Users\\lynel\\.vscode\\extensions\\ms-python.python-2021.3.658691958\\pythonFiles\\lib\\python\\debugpy\\_vendored\\pydevd\\pydevd.py\u001b[0m in \u001b[0;36m_do_wait_suspend\u001b[1;34m(self, thread, frame, event, arg, suspend_type, from_this_thread, frames_tracker)\u001b[0m\n\u001b[0;32m   1888\u001b[0m \u001b[1;33m\u001b[0m\u001b[0m\n\u001b[0;32m   1889\u001b[0m             \u001b[0mself\u001b[0m\u001b[1;33m.\u001b[0m\u001b[0mprocess_internal_commands\u001b[0m\u001b[1;33m(\u001b[0m\u001b[1;33m)\u001b[0m\u001b[1;33m\u001b[0m\u001b[1;33m\u001b[0m\u001b[0m\n\u001b[1;32m-> 1890\u001b[1;33m             \u001b[0mtime\u001b[0m\u001b[1;33m.\u001b[0m\u001b[0msleep\u001b[0m\u001b[1;33m(\u001b[0m\u001b[1;36m0.01\u001b[0m\u001b[1;33m)\u001b[0m\u001b[1;33m\u001b[0m\u001b[1;33m\u001b[0m\u001b[0m\n\u001b[0m\u001b[0;32m   1891\u001b[0m \u001b[1;33m\u001b[0m\u001b[0m\n\u001b[0;32m   1892\u001b[0m         \u001b[0mself\u001b[0m\u001b[1;33m.\u001b[0m\u001b[0mcancel_async_evaluation\u001b[0m\u001b[1;33m(\u001b[0m\u001b[0mget_current_thread_id\u001b[0m\u001b[1;33m(\u001b[0m\u001b[0mthread\u001b[0m\u001b[1;33m)\u001b[0m\u001b[1;33m,\u001b[0m \u001b[0mstr\u001b[0m\u001b[1;33m(\u001b[0m\u001b[0mid\u001b[0m\u001b[1;33m(\u001b[0m\u001b[0mframe\u001b[0m\u001b[1;33m)\u001b[0m\u001b[1;33m)\u001b[0m\u001b[1;33m)\u001b[0m\u001b[1;33m\u001b[0m\u001b[1;33m\u001b[0m\u001b[0m\n",
      "\u001b[1;31mKeyboardInterrupt\u001b[0m: "
     ]
    }
   ],
   "source": [
    "conn = sqlite3.connect('NYC_restaurant_inspection.sqlite')\n",
    "df_cleaned.to_sql('NYC_restaurant_inspection', conn, if_exists='replace', index=False)"
   ]
  },
  {
   "cell_type": "code",
   "execution_count": null,
   "metadata": {},
   "outputs": [],
   "source": [
    "pd.read_sql('select * from NYC_restaurant_inspection', conn)"
   ]
  },
  {
   "cell_type": "code",
   "execution_count": null,
   "metadata": {},
   "outputs": [],
   "source": []
  }
 ],
 "metadata": {
  "kernelspec": {
   "display_name": "Python 3",
   "language": "python",
   "name": "python3"
  },
  "language_info": {
   "codemirror_mode": {
    "name": "ipython",
    "version": 3
   },
   "file_extension": ".py",
   "mimetype": "text/x-python",
   "name": "python",
   "nbconvert_exporter": "python",
   "pygments_lexer": "ipython3",
   "version": "3.8.5-final"
  }
 },
 "nbformat": 4,
 "nbformat_minor": 4
}