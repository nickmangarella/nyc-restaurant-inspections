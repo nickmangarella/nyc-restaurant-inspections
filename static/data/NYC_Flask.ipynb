{
 "cells": [
  {
   "cell_type": "code",
   "execution_count": 32,
   "metadata": {},
   "outputs": [],
   "source": [
    "%matplotlib inline\n",
    "from matplotlib import style\n",
    "style.use('fivethirtyeight')\n",
    "import matplotlib.pyplot as plt\n",
    "\n",
    "import numpy as np\n",
    "import pandas as pd\n",
    "import datetime as dt\n",
    "\n",
    "\n",
    "# Python SQL toolkit and Object Relational Mapper\n",
    "import sqlalchemy\n",
    "from sqlalchemy.ext.automap import automap_base\n",
    "from sqlalchemy.orm import Session\n",
    "from sqlalchemy import create_engine, func, inspect, distinct\n",
    "\n"
   ]
  },
  {
   "cell_type": "code",
   "execution_count": 33,
   "metadata": {},
   "outputs": [
    {
     "data": {
      "text/plain": [
       "['NYCInspect']"
      ]
     },
     "execution_count": 33,
     "metadata": {},
     "output_type": "execute_result"
    }
   ],
   "source": [
    "# create engine to hawaii.sqlite\n",
    "engine = create_engine(\"sqlite:///NYC_Restaurant_Inspection_Results_Clean2020.sqlite\")\n",
    "conn = engine.connect()\n",
    "\n",
    "# reflect an existing database into a new model\n",
    "Base = automap_base()\n",
    "\n",
    "# reflect the tables\n",
    "Base.prepare(engine, reflect=True)\n",
    "\n",
    "# View all of the classes that automap found\n",
    "inspector = inspect(engine)\n",
    "inspector.get_table_names()"
   ]
  },
  {
   "cell_type": "code",
   "execution_count": 34,
   "metadata": {},
   "outputs": [
    {
     "data": {
      "text/plain": [
       "['NYCInspect']"
      ]
     },
     "execution_count": 34,
     "metadata": {},
     "output_type": "execute_result"
    }
   ],
   "source": [
    "Base.classes.keys()"
   ]
  },
  {
   "cell_type": "code",
   "execution_count": 13,
   "metadata": {},
   "outputs": [
    {
     "name": "stdout",
     "output_type": "stream",
     "text": [
      "ID INTEGER\n",
      "CAMIS INTEGER\n",
      "DBA VARCHAR\n",
      "BORO VARCHAR\n",
      "BUILDING VARCHAR\n",
      "STREET VARCHAR\n",
      "ZIPCODE VARCHAR\n",
      "PHONE VARCHAR\n",
      "CUISINE DESCRIPTION VARCHAR\n",
      "INSPECTION DATE VARCHAR\n",
      "ACTION VARCHAR\n",
      "VIOLATION CODE VARCHAR\n",
      "VIOLATION DESCRIPTION VARCHAR\n",
      "CRITICAL FLAG VARCHAR\n",
      "SCORE INTEGER\n",
      "GRADE VARCHAR\n",
      "GRADE DATE VARCHAR\n",
      "RECORD DATE VARCHAR\n",
      "INSPECTION TYPE VARCHAR\n",
      "INSPECTION TYPE GENERAL VARCHAR\n",
      "Latitude FLOAT\n",
      "Longitude FLOAT\n",
      "Community Board VARCHAR\n",
      "Council District VARCHAR\n",
      "Census Tract VARCHAR\n",
      "BIN VARCHAR\n",
      "BBL INTEGER\n",
      "NTA VARCHAR\n",
      "YEAR INTEGER\n",
      "ADDRESS VARCHAR\n"
     ]
    }
   ],
   "source": [
    "# checking out columns for 'NYCInspect'\n",
    "columnsN = inspector.get_columns('NYCInspect')\n",
    "for n in columnsN:\n",
    "    print(n['name'], n['type'])"
   ]
  },
  {
   "cell_type": "code",
   "execution_count": 14,
   "metadata": {},
   "outputs": [],
   "source": [
    "# Save references to each table\n",
    "nyc = Base.classes.NYCInspect\n",
    "\n",
    "\n",
    "# Create our session (link) from Python to the DB\n",
    "session = Session(engine)"
   ]
  },
  {
   "cell_type": "code",
   "execution_count": 31,
   "metadata": {},
   "outputs": [
    {
     "ename": "AttributeError",
     "evalue": "'dict' object has no attribute 'jsonify'",
     "output_type": "error",
     "traceback": [
      "\u001b[1;31m---------------------------------------------------------------------------\u001b[0m",
      "\u001b[1;31mAttributeError\u001b[0m                            Traceback (most recent call last)",
      "\u001b[1;32m<ipython-input-31-388eb64a5a44>\u001b[0m in \u001b[0;36m<module>\u001b[1;34m\u001b[0m\n\u001b[0;32m      8\u001b[0m \u001b[1;33m\u001b[0m\u001b[0m\n\u001b[0;32m      9\u001b[0m \u001b[0mnycLat_dict\u001b[0m \u001b[1;33m=\u001b[0m \u001b[1;33m{\u001b[0m\u001b[0mlat\u001b[0m\u001b[1;33m:\u001b[0m \u001b[0mlong\u001b[0m \u001b[1;32mfor\u001b[0m \u001b[0mlat\u001b[0m\u001b[1;33m,\u001b[0m \u001b[0mlong\u001b[0m \u001b[1;32min\u001b[0m \u001b[0mnycLat\u001b[0m\u001b[1;33m}\u001b[0m\u001b[1;33m\u001b[0m\u001b[1;33m\u001b[0m\u001b[0m\n\u001b[1;32m---> 10\u001b[1;33m \u001b[0mnycLat_dict\u001b[0m\u001b[1;33m.\u001b[0m\u001b[0mjsonify\u001b[0m\u001b[1;33m\u001b[0m\u001b[1;33m\u001b[0m\u001b[0m\n\u001b[0m\u001b[0;32m     11\u001b[0m \u001b[1;33m\u001b[0m\u001b[0m\n\u001b[0;32m     12\u001b[0m \u001b[1;33m\u001b[0m\u001b[0m\n",
      "\u001b[1;31mAttributeError\u001b[0m: 'dict' object has no attribute 'jsonify'"
     ]
    }
   ],
   "source": [
    "# nycLat = session.query(nyc.Latitude).\\\n",
    "# filter(nyc.GRADE != '').\\\n",
    "# order_by(nyc.GRADE).all()\n",
    "# nycbyG\n",
    "\n",
    "nycLat = session.query(nyc.Latitude, nyc.Longitude).distinct().filter(nyc.Latitude != 0.0).all()\n",
    "nycLat\n",
    "\n",
    "nycLat_dict = {lat: long for lat, long in nycLat}\n",
    "nycLat_dict.jsonify        \n",
    "    \n",
    "    \n",
    "    \n",
    "#     return jsonify(nycLat_dict)\n",
    "\n",
    "\n"
   ]
  },
  {
   "cell_type": "code",
   "execution_count": null,
   "metadata": {},
   "outputs": [],
   "source": []
  },
  {
   "cell_type": "code",
   "execution_count": null,
   "metadata": {},
   "outputs": [],
   "source": []
  }
 ],
 "metadata": {
  "kernelspec": {
   "display_name": "Python (PythonData)",
   "language": "python",
   "name": "myenv"
  },
  "language_info": {
   "codemirror_mode": {
    "name": "ipython",
    "version": 3
   },
   "file_extension": ".py",
   "mimetype": "text/x-python",
   "name": "python",
   "nbconvert_exporter": "python",
   "pygments_lexer": "ipython3",
   "version": "3.8.5"
  }
 },
 "nbformat": 4,
 "nbformat_minor": 4
}
