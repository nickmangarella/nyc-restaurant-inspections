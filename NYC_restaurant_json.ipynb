{
 "cells": [
  {
   "cell_type": "code",
   "execution_count": 1,
   "metadata": {},
   "outputs": [],
   "source": [
    "\n",
    "import pandas as pd\n",
    "\n"
   ]
  },
  {
   "cell_type": "code",
   "execution_count": 2,
   "metadata": {},
   "outputs": [
    {
     "output_type": "execute_result",
     "data": {
      "text/plain": [
       "          ID     CAMIS                           DBA           BORO BUILDING  \\\n",
       "0          1  50090691   SALIM KENNEDY FRIED CHICKEN         Queens    16614   \n",
       "1          2  50095392               HOPE TO SEE YOU         Queens   133-42   \n",
       "2          3  50033575      JACQUES TORRES ICE CREAM      Manhattan       89   \n",
       "3          4  50089342  REGAL CINEMAS ESSEX CROSSING      Manhattan      129   \n",
       "4          5  50033875                      ARIANA'S  Staten Island       60   \n",
       "...      ...       ...                           ...            ...      ...   \n",
       "30638  30639  50086667             JJ'S ASIAN FUSION         Queens    37-05   \n",
       "30639  30640  41691396                         SAM'S         Queens    89-06   \n",
       "30640  30641  50102250         XOXO KITCHEN & BAKERY         Queens      883   \n",
       "30641  30642  41683337           AVLEE GREEK KITCHEN       Brooklyn      349   \n",
       "30642  30643  50016747                   SARKU JAPAN          Bronx      815   \n",
       "\n",
       "                         STREET  ZIPCODE       PHONE  \\\n",
       "0                  HILLSIDE AVE  11432.0  7183744616   \n",
       "1                     39 AVENUE  11354.0  7188881669   \n",
       "2              EAST   42 STREET  10017.0  2129837353   \n",
       "3               DELANCEY STREET  10002.0  2124755768   \n",
       "4           SOUTH BRIDGE STREET  10309.0  7189678500   \n",
       "...                         ...      ...         ...   \n",
       "30638                 31 AVENUE  11103.0  7186268888   \n",
       "30639        NORTHERN BOULEVARD  11372.0  7183353800   \n",
       "30640            CYPRESS AVENUE  11385.0  5189307739   \n",
       "30641              SMITH STREET  11231.0  7188555125   \n",
       "30642  HUTCHINSON RIVER PARKWAY  10465.0  7182391460   \n",
       "\n",
       "                   CUISINE DESCRIPTION INSPECTION DATE  ...   Latitude  \\\n",
       "0                          Bangladeshi       2/20/2020  ...  40.709572   \n",
       "1                              Chinese        1/2/2020  ...  40.759099   \n",
       "2      Ice Cream, Gelato, Yogurt, Ices        3/9/2020  ...  40.752094   \n",
       "3                             American       3/13/2020  ...  40.718327   \n",
       "4                              Italian       1/23/2020  ...  40.525075   \n",
       "...                                ...             ...  ...        ...   \n",
       "30638                         Japanese       2/12/2020  ...  40.762006   \n",
       "30639                            Pizza       1/28/2020  ...  40.756245   \n",
       "30640                         American       2/25/2020  ...  40.699365   \n",
       "30641                            Greek       2/20/2020  ...  40.680002   \n",
       "30642                         Japanese       3/16/2020  ...  40.823678   \n",
       "\n",
       "       Longitude Community Board Council District  Census Tract        BIN  \\\n",
       "0     -73.796195           412.0             27.0       46000.0  4210082.0   \n",
       "1     -73.834139           407.0             20.0       87100.0  4596186.0   \n",
       "2     -73.977604           105.0              4.0        9200.0  1035381.0   \n",
       "3     -73.987518           103.0              1.0        1800.0  1090554.0   \n",
       "4     -74.236617           503.0             51.0       22600.0  5000000.0   \n",
       "...          ...             ...              ...           ...        ...   \n",
       "30638 -73.918537           401.0             22.0        6300.0  4010552.0   \n",
       "30639 -73.878681           403.0             25.0       27700.0  4035403.0   \n",
       "30640 -73.904924           405.0             34.0       55300.0  4085863.0   \n",
       "30641 -73.995007           306.0             39.0        7700.0  3007558.0   \n",
       "30642 -73.836420           210.0             13.0        9000.0  2080263.0   \n",
       "\n",
       "              BBL   NTA  YEAR                             ADDRESS  \n",
       "0      4098180062  QN61  2020            16614,HILLSIDE AVE,11432  \n",
       "1      4049737501  QN22  2020              133-42,39 AVENUE,11354  \n",
       "2      1012800001  MN19  2020           89,EAST   42 STREET,10017  \n",
       "3      1003527501  MN27  2020           129,DELANCEY STREET,10002  \n",
       "4      5075840117  SI11  2020        60,SOUTH BRIDGE STREET,10309  \n",
       "...           ...   ...   ...                                 ...  \n",
       "30638  4006590007  QN70  2020               37-05,31 AVENUE,11103  \n",
       "30639  4014370003  QN28  2020      89-06,NORTHERN BOULEVARD,11372  \n",
       "30640  4035600001  QN20  2020            883,CYPRESS AVENUE,11385  \n",
       "30641  3004500008  BK33  2020              349,SMITH STREET,11231  \n",
       "30642  2055597501  BX09  2020  815,HUTCHINSON RIVER PARKWAY,10465  \n",
       "\n",
       "[30643 rows x 30 columns]"
      ],
      "text/html": "<div>\n<style scoped>\n    .dataframe tbody tr th:only-of-type {\n        vertical-align: middle;\n    }\n\n    .dataframe tbody tr th {\n        vertical-align: top;\n    }\n\n    .dataframe thead th {\n        text-align: right;\n    }\n</style>\n<table border=\"1\" class=\"dataframe\">\n  <thead>\n    <tr style=\"text-align: right;\">\n      <th></th>\n      <th>ID</th>\n      <th>CAMIS</th>\n      <th>DBA</th>\n      <th>BORO</th>\n      <th>BUILDING</th>\n      <th>STREET</th>\n      <th>ZIPCODE</th>\n      <th>PHONE</th>\n      <th>CUISINE DESCRIPTION</th>\n      <th>INSPECTION DATE</th>\n      <th>...</th>\n      <th>Latitude</th>\n      <th>Longitude</th>\n      <th>Community Board</th>\n      <th>Council District</th>\n      <th>Census Tract</th>\n      <th>BIN</th>\n      <th>BBL</th>\n      <th>NTA</th>\n      <th>YEAR</th>\n      <th>ADDRESS</th>\n    </tr>\n  </thead>\n  <tbody>\n    <tr>\n      <th>0</th>\n      <td>1</td>\n      <td>50090691</td>\n      <td>SALIM KENNEDY FRIED CHICKEN</td>\n      <td>Queens</td>\n      <td>16614</td>\n      <td>HILLSIDE AVE</td>\n      <td>11432.0</td>\n      <td>7183744616</td>\n      <td>Bangladeshi</td>\n      <td>2/20/2020</td>\n      <td>...</td>\n      <td>40.709572</td>\n      <td>-73.796195</td>\n      <td>412.0</td>\n      <td>27.0</td>\n      <td>46000.0</td>\n      <td>4210082.0</td>\n      <td>4098180062</td>\n      <td>QN61</td>\n      <td>2020</td>\n      <td>16614,HILLSIDE AVE,11432</td>\n    </tr>\n    <tr>\n      <th>1</th>\n      <td>2</td>\n      <td>50095392</td>\n      <td>HOPE TO SEE YOU</td>\n      <td>Queens</td>\n      <td>133-42</td>\n      <td>39 AVENUE</td>\n      <td>11354.0</td>\n      <td>7188881669</td>\n      <td>Chinese</td>\n      <td>1/2/2020</td>\n      <td>...</td>\n      <td>40.759099</td>\n      <td>-73.834139</td>\n      <td>407.0</td>\n      <td>20.0</td>\n      <td>87100.0</td>\n      <td>4596186.0</td>\n      <td>4049737501</td>\n      <td>QN22</td>\n      <td>2020</td>\n      <td>133-42,39 AVENUE,11354</td>\n    </tr>\n    <tr>\n      <th>2</th>\n      <td>3</td>\n      <td>50033575</td>\n      <td>JACQUES TORRES ICE CREAM</td>\n      <td>Manhattan</td>\n      <td>89</td>\n      <td>EAST   42 STREET</td>\n      <td>10017.0</td>\n      <td>2129837353</td>\n      <td>Ice Cream, Gelato, Yogurt, Ices</td>\n      <td>3/9/2020</td>\n      <td>...</td>\n      <td>40.752094</td>\n      <td>-73.977604</td>\n      <td>105.0</td>\n      <td>4.0</td>\n      <td>9200.0</td>\n      <td>1035381.0</td>\n      <td>1012800001</td>\n      <td>MN19</td>\n      <td>2020</td>\n      <td>89,EAST   42 STREET,10017</td>\n    </tr>\n    <tr>\n      <th>3</th>\n      <td>4</td>\n      <td>50089342</td>\n      <td>REGAL CINEMAS ESSEX CROSSING</td>\n      <td>Manhattan</td>\n      <td>129</td>\n      <td>DELANCEY STREET</td>\n      <td>10002.0</td>\n      <td>2124755768</td>\n      <td>American</td>\n      <td>3/13/2020</td>\n      <td>...</td>\n      <td>40.718327</td>\n      <td>-73.987518</td>\n      <td>103.0</td>\n      <td>1.0</td>\n      <td>1800.0</td>\n      <td>1090554.0</td>\n      <td>1003527501</td>\n      <td>MN27</td>\n      <td>2020</td>\n      <td>129,DELANCEY STREET,10002</td>\n    </tr>\n    <tr>\n      <th>4</th>\n      <td>5</td>\n      <td>50033875</td>\n      <td>ARIANA'S</td>\n      <td>Staten Island</td>\n      <td>60</td>\n      <td>SOUTH BRIDGE STREET</td>\n      <td>10309.0</td>\n      <td>7189678500</td>\n      <td>Italian</td>\n      <td>1/23/2020</td>\n      <td>...</td>\n      <td>40.525075</td>\n      <td>-74.236617</td>\n      <td>503.0</td>\n      <td>51.0</td>\n      <td>22600.0</td>\n      <td>5000000.0</td>\n      <td>5075840117</td>\n      <td>SI11</td>\n      <td>2020</td>\n      <td>60,SOUTH BRIDGE STREET,10309</td>\n    </tr>\n    <tr>\n      <th>...</th>\n      <td>...</td>\n      <td>...</td>\n      <td>...</td>\n      <td>...</td>\n      <td>...</td>\n      <td>...</td>\n      <td>...</td>\n      <td>...</td>\n      <td>...</td>\n      <td>...</td>\n      <td>...</td>\n      <td>...</td>\n      <td>...</td>\n      <td>...</td>\n      <td>...</td>\n      <td>...</td>\n      <td>...</td>\n      <td>...</td>\n      <td>...</td>\n      <td>...</td>\n      <td>...</td>\n    </tr>\n    <tr>\n      <th>30638</th>\n      <td>30639</td>\n      <td>50086667</td>\n      <td>JJ'S ASIAN FUSION</td>\n      <td>Queens</td>\n      <td>37-05</td>\n      <td>31 AVENUE</td>\n      <td>11103.0</td>\n      <td>7186268888</td>\n      <td>Japanese</td>\n      <td>2/12/2020</td>\n      <td>...</td>\n      <td>40.762006</td>\n      <td>-73.918537</td>\n      <td>401.0</td>\n      <td>22.0</td>\n      <td>6300.0</td>\n      <td>4010552.0</td>\n      <td>4006590007</td>\n      <td>QN70</td>\n      <td>2020</td>\n      <td>37-05,31 AVENUE,11103</td>\n    </tr>\n    <tr>\n      <th>30639</th>\n      <td>30640</td>\n      <td>41691396</td>\n      <td>SAM'S</td>\n      <td>Queens</td>\n      <td>89-06</td>\n      <td>NORTHERN BOULEVARD</td>\n      <td>11372.0</td>\n      <td>7183353800</td>\n      <td>Pizza</td>\n      <td>1/28/2020</td>\n      <td>...</td>\n      <td>40.756245</td>\n      <td>-73.878681</td>\n      <td>403.0</td>\n      <td>25.0</td>\n      <td>27700.0</td>\n      <td>4035403.0</td>\n      <td>4014370003</td>\n      <td>QN28</td>\n      <td>2020</td>\n      <td>89-06,NORTHERN BOULEVARD,11372</td>\n    </tr>\n    <tr>\n      <th>30640</th>\n      <td>30641</td>\n      <td>50102250</td>\n      <td>XOXO KITCHEN &amp; BAKERY</td>\n      <td>Queens</td>\n      <td>883</td>\n      <td>CYPRESS AVENUE</td>\n      <td>11385.0</td>\n      <td>5189307739</td>\n      <td>American</td>\n      <td>2/25/2020</td>\n      <td>...</td>\n      <td>40.699365</td>\n      <td>-73.904924</td>\n      <td>405.0</td>\n      <td>34.0</td>\n      <td>55300.0</td>\n      <td>4085863.0</td>\n      <td>4035600001</td>\n      <td>QN20</td>\n      <td>2020</td>\n      <td>883,CYPRESS AVENUE,11385</td>\n    </tr>\n    <tr>\n      <th>30641</th>\n      <td>30642</td>\n      <td>41683337</td>\n      <td>AVLEE GREEK KITCHEN</td>\n      <td>Brooklyn</td>\n      <td>349</td>\n      <td>SMITH STREET</td>\n      <td>11231.0</td>\n      <td>7188555125</td>\n      <td>Greek</td>\n      <td>2/20/2020</td>\n      <td>...</td>\n      <td>40.680002</td>\n      <td>-73.995007</td>\n      <td>306.0</td>\n      <td>39.0</td>\n      <td>7700.0</td>\n      <td>3007558.0</td>\n      <td>3004500008</td>\n      <td>BK33</td>\n      <td>2020</td>\n      <td>349,SMITH STREET,11231</td>\n    </tr>\n    <tr>\n      <th>30642</th>\n      <td>30643</td>\n      <td>50016747</td>\n      <td>SARKU JAPAN</td>\n      <td>Bronx</td>\n      <td>815</td>\n      <td>HUTCHINSON RIVER PARKWAY</td>\n      <td>10465.0</td>\n      <td>7182391460</td>\n      <td>Japanese</td>\n      <td>3/16/2020</td>\n      <td>...</td>\n      <td>40.823678</td>\n      <td>-73.836420</td>\n      <td>210.0</td>\n      <td>13.0</td>\n      <td>9000.0</td>\n      <td>2080263.0</td>\n      <td>2055597501</td>\n      <td>BX09</td>\n      <td>2020</td>\n      <td>815,HUTCHINSON RIVER PARKWAY,10465</td>\n    </tr>\n  </tbody>\n</table>\n<p>30643 rows × 30 columns</p>\n</div>"
     },
     "metadata": {},
     "execution_count": 2
    }
   ],
   "source": [
    "df = pd.read_csv('NYC_Restaurant_Inspection_Results_Clean2020.csv')\n",
    "df"
   ]
  },
  {
   "cell_type": "code",
   "execution_count": 3,
   "metadata": {},
   "outputs": [
    {
     "output_type": "execute_result",
     "data": {
      "text/plain": [
       "Index(['ID', 'CAMIS', 'DBA', 'BORO', 'BUILDING', 'STREET', 'ZIPCODE', 'PHONE',\n",
       "       'CUISINE DESCRIPTION', 'INSPECTION DATE', 'ACTION', 'VIOLATION CODE',\n",
       "       'VIOLATION DESCRIPTION', 'CRITICAL FLAG', 'SCORE', 'GRADE',\n",
       "       'GRADE DATE', 'RECORD DATE', 'INSPECTION TYPE',\n",
       "       'INSPECTION TYPE GENERAL', 'Latitude', 'Longitude', 'Community Board',\n",
       "       'Council District', 'Census Tract', 'BIN', 'BBL', 'NTA', 'YEAR',\n",
       "       'ADDRESS'],\n",
       "      dtype='object')"
      ]
     },
     "metadata": {},
     "execution_count": 3
    }
   ],
   "source": [
    "df.columns"
   ]
  },
  {
   "cell_type": "code",
   "execution_count": 4,
   "metadata": {},
   "outputs": [
    {
     "output_type": "error",
     "ename": "TypeError",
     "evalue": "Object of type int64 is not JSON serializable",
     "traceback": [
      "\u001b[1;31m---------------------------------------------------------------------------\u001b[0m",
      "\u001b[1;31mTypeError\u001b[0m                                 Traceback (most recent call last)",
      "\u001b[1;32m<ipython-input-4-db1b3cdaca78>\u001b[0m in \u001b[0;36m<module>\u001b[1;34m\u001b[0m\n\u001b[0;32m     52\u001b[0m \u001b[1;33m\u001b[0m\u001b[0m\n\u001b[0;32m     53\u001b[0m \u001b[1;32mimport\u001b[0m \u001b[0mjson\u001b[0m\u001b[1;33m\u001b[0m\u001b[1;33m\u001b[0m\u001b[0m\n\u001b[1;32m---> 54\u001b[1;33m \u001b[0mjson\u001b[0m\u001b[1;33m.\u001b[0m\u001b[0mdumps\u001b[0m\u001b[1;33m(\u001b[0m\u001b[0mfinalList\u001b[0m\u001b[1;33m)\u001b[0m\u001b[1;33m\u001b[0m\u001b[1;33m\u001b[0m\u001b[0m\n\u001b[0m",
      "\u001b[1;32mD:\\Users\\lynel\\anaconda3\\envs\\PythonData\\lib\\json\\__init__.py\u001b[0m in \u001b[0;36mdumps\u001b[1;34m(obj, skipkeys, ensure_ascii, check_circular, allow_nan, cls, indent, separators, default, sort_keys, **kw)\u001b[0m\n\u001b[0;32m    229\u001b[0m         \u001b[0mcls\u001b[0m \u001b[1;32mis\u001b[0m \u001b[1;32mNone\u001b[0m \u001b[1;32mand\u001b[0m \u001b[0mindent\u001b[0m \u001b[1;32mis\u001b[0m \u001b[1;32mNone\u001b[0m \u001b[1;32mand\u001b[0m \u001b[0mseparators\u001b[0m \u001b[1;32mis\u001b[0m \u001b[1;32mNone\u001b[0m \u001b[1;32mand\u001b[0m\u001b[1;33m\u001b[0m\u001b[1;33m\u001b[0m\u001b[0m\n\u001b[0;32m    230\u001b[0m         default is None and not sort_keys and not kw):\n\u001b[1;32m--> 231\u001b[1;33m         \u001b[1;32mreturn\u001b[0m \u001b[0m_default_encoder\u001b[0m\u001b[1;33m.\u001b[0m\u001b[0mencode\u001b[0m\u001b[1;33m(\u001b[0m\u001b[0mobj\u001b[0m\u001b[1;33m)\u001b[0m\u001b[1;33m\u001b[0m\u001b[1;33m\u001b[0m\u001b[0m\n\u001b[0m\u001b[0;32m    232\u001b[0m     \u001b[1;32mif\u001b[0m \u001b[0mcls\u001b[0m \u001b[1;32mis\u001b[0m \u001b[1;32mNone\u001b[0m\u001b[1;33m:\u001b[0m\u001b[1;33m\u001b[0m\u001b[1;33m\u001b[0m\u001b[0m\n\u001b[0;32m    233\u001b[0m         \u001b[0mcls\u001b[0m \u001b[1;33m=\u001b[0m \u001b[0mJSONEncoder\u001b[0m\u001b[1;33m\u001b[0m\u001b[1;33m\u001b[0m\u001b[0m\n",
      "\u001b[1;32mD:\\Users\\lynel\\anaconda3\\envs\\PythonData\\lib\\json\\encoder.py\u001b[0m in \u001b[0;36mencode\u001b[1;34m(self, o)\u001b[0m\n\u001b[0;32m    197\u001b[0m         \u001b[1;31m# exceptions aren't as detailed.  The list call should be roughly\u001b[0m\u001b[1;33m\u001b[0m\u001b[1;33m\u001b[0m\u001b[1;33m\u001b[0m\u001b[0m\n\u001b[0;32m    198\u001b[0m         \u001b[1;31m# equivalent to the PySequence_Fast that ''.join() would do.\u001b[0m\u001b[1;33m\u001b[0m\u001b[1;33m\u001b[0m\u001b[1;33m\u001b[0m\u001b[0m\n\u001b[1;32m--> 199\u001b[1;33m         \u001b[0mchunks\u001b[0m \u001b[1;33m=\u001b[0m \u001b[0mself\u001b[0m\u001b[1;33m.\u001b[0m\u001b[0miterencode\u001b[0m\u001b[1;33m(\u001b[0m\u001b[0mo\u001b[0m\u001b[1;33m,\u001b[0m \u001b[0m_one_shot\u001b[0m\u001b[1;33m=\u001b[0m\u001b[1;32mTrue\u001b[0m\u001b[1;33m)\u001b[0m\u001b[1;33m\u001b[0m\u001b[1;33m\u001b[0m\u001b[0m\n\u001b[0m\u001b[0;32m    200\u001b[0m         \u001b[1;32mif\u001b[0m \u001b[1;32mnot\u001b[0m \u001b[0misinstance\u001b[0m\u001b[1;33m(\u001b[0m\u001b[0mchunks\u001b[0m\u001b[1;33m,\u001b[0m \u001b[1;33m(\u001b[0m\u001b[0mlist\u001b[0m\u001b[1;33m,\u001b[0m \u001b[0mtuple\u001b[0m\u001b[1;33m)\u001b[0m\u001b[1;33m)\u001b[0m\u001b[1;33m:\u001b[0m\u001b[1;33m\u001b[0m\u001b[1;33m\u001b[0m\u001b[0m\n\u001b[0;32m    201\u001b[0m             \u001b[0mchunks\u001b[0m \u001b[1;33m=\u001b[0m \u001b[0mlist\u001b[0m\u001b[1;33m(\u001b[0m\u001b[0mchunks\u001b[0m\u001b[1;33m)\u001b[0m\u001b[1;33m\u001b[0m\u001b[1;33m\u001b[0m\u001b[0m\n",
      "\u001b[1;32mD:\\Users\\lynel\\anaconda3\\envs\\PythonData\\lib\\json\\encoder.py\u001b[0m in \u001b[0;36miterencode\u001b[1;34m(self, o, _one_shot)\u001b[0m\n\u001b[0;32m    255\u001b[0m                 \u001b[0mself\u001b[0m\u001b[1;33m.\u001b[0m\u001b[0mkey_separator\u001b[0m\u001b[1;33m,\u001b[0m \u001b[0mself\u001b[0m\u001b[1;33m.\u001b[0m\u001b[0mitem_separator\u001b[0m\u001b[1;33m,\u001b[0m \u001b[0mself\u001b[0m\u001b[1;33m.\u001b[0m\u001b[0msort_keys\u001b[0m\u001b[1;33m,\u001b[0m\u001b[1;33m\u001b[0m\u001b[1;33m\u001b[0m\u001b[0m\n\u001b[0;32m    256\u001b[0m                 self.skipkeys, _one_shot)\n\u001b[1;32m--> 257\u001b[1;33m         \u001b[1;32mreturn\u001b[0m \u001b[0m_iterencode\u001b[0m\u001b[1;33m(\u001b[0m\u001b[0mo\u001b[0m\u001b[1;33m,\u001b[0m \u001b[1;36m0\u001b[0m\u001b[1;33m)\u001b[0m\u001b[1;33m\u001b[0m\u001b[1;33m\u001b[0m\u001b[0m\n\u001b[0m\u001b[0;32m    258\u001b[0m \u001b[1;33m\u001b[0m\u001b[0m\n\u001b[0;32m    259\u001b[0m def _make_iterencode(markers, _default, _encoder, _indent, _floatstr,\n",
      "\u001b[1;32mD:\\Users\\lynel\\anaconda3\\envs\\PythonData\\lib\\json\\encoder.py\u001b[0m in \u001b[0;36mdefault\u001b[1;34m(self, o)\u001b[0m\n\u001b[0;32m    177\u001b[0m \u001b[1;33m\u001b[0m\u001b[0m\n\u001b[0;32m    178\u001b[0m         \"\"\"\n\u001b[1;32m--> 179\u001b[1;33m         raise TypeError(f'Object of type {o.__class__.__name__} '\n\u001b[0m\u001b[0;32m    180\u001b[0m                         f'is not JSON serializable')\n\u001b[0;32m    181\u001b[0m \u001b[1;33m\u001b[0m\u001b[0m\n",
      "\u001b[1;31mTypeError\u001b[0m: Object of type int64 is not JSON serializable"
     ]
    }
   ],
   "source": [
    "finalList = []\n",
    "finalDict = {}\n",
    "grouped = df.groupby(['BORO', 'Council District','CUISINE DESCRIPTION','CAMIS'])\n",
    "for key, value in grouped:\n",
    "\n",
    "\n",
    "    dictionary = {}\n",
    "\n",
    "    j = grouped.get_group(key).reset_index(drop=True)\n",
    "    dictionary['BORO'] = j.at[0, 'Council District']\n",
    "    dictionary['Council District'] = j.at[0, 'Council District']\n",
    "    dictionary['CUISINE DESCRIPTION'] = j.at[0, 'CUISINE DESCRIPTION']\n",
    "    dictionary['CAMIS'] = j.at[0, 'CAMIS']\n",
    "\n",
    "\n",
    "    dictList = []\n",
    "    anotherDict = {}\n",
    "    for i in j.index:\n",
    "\n",
    "        anotherDict['DBA'] = j.at[i, 'DBA']\n",
    "        anotherDict['BUILDING'] = j.at[i, 'BUILDING']\n",
    "        anotherDict['STREET'] = j.at[i, 'STREET']\n",
    "        anotherDict['PHONE'] = j.at[i, 'PHONE']\n",
    "        anotherDict['INSPECTION DATE'] = j.at[i, 'INSPECTION DATE']\n",
    "        anotherDict['ACTION'] = j.at[i, 'ACTION']\n",
    "        anotherDict['VIOLATION CODE'] = j.at[i, 'VIOLATION CODE']\n",
    "        anotherDict['VIOLATION DESCRIPTION'] = j.at[i, 'VIOLATION DESCRIPTION']\n",
    "        anotherDict['CRITICAL FLAG'] = j.at[i, 'CRITICAL FLAG']\n",
    "        anotherDict['SCORE'] = j.at[i, 'SCORE']\n",
    "        anotherDict['GRADE'] = j.at[i, 'GRADE']\n",
    "        anotherDict['GRADE DATE'] = j.at[i, 'GRADE DATE']\n",
    "        anotherDict['RECORD DATE'] = j.at[i, 'RECORD DATE']\n",
    "        anotherDict['INSPECTION TYPE'] = j.at[i, 'INSPECTION TYPE']\n",
    "        anotherDict['INSPECTION TYPE GENERAL'] = j.at[i, 'INSPECTION TYPE GENERAL']\n",
    "        anotherDict['Latitude'] = j.at[i, 'Latitude']\n",
    "        anotherDict['Longitude'] = j.at[i, 'Longitude']\n",
    "        anotherDict['Community Board'] = j.at[i, 'Community Board']\n",
    "        anotherDict['Council District'] = j.at[i, 'Council District']\n",
    "        anotherDict['Census Tract'] = j.at[i, 'Census Tract']\n",
    "        anotherDict['BIN'] = j.at[i, 'BIN']\n",
    "        anotherDict['BBL'] = j.at[i, 'BBL']\n",
    "        anotherDict['NTA'] = j.at[i, 'NTA']\n",
    "        anotherDict['YEAR'] = j.at[i, 'YEAR']\n",
    "        anotherDict['ADDRESS'] = j.at[i, 'ADDRESS']\n",
    "\n",
    "        dictList.append(anotherDict)\n",
    "\n",
    "    dictionary['Restaurant'] = dictList\n",
    "\n",
    "\n",
    "    finalList.append(dictionary)\n",
    "\n",
    "import json\n",
    "json.dumps(finalList)"
   ]
  },
  {
   "cell_type": "code",
   "execution_count": null,
   "metadata": {},
   "outputs": [],
   "source": []
  }
 ],
 "metadata": {
  "kernelspec": {
   "display_name": "Python 3",
   "language": "python",
   "name": "python3"
  },
  "language_info": {
   "codemirror_mode": {
    "name": "ipython",
    "version": 3
   },
   "file_extension": ".py",
   "mimetype": "text/x-python",
   "name": "python",
   "nbconvert_exporter": "python",
   "pygments_lexer": "ipython3",
   "version": "3.8.5-final"
  }
 },
 "nbformat": 4,
 "nbformat_minor": 4
}